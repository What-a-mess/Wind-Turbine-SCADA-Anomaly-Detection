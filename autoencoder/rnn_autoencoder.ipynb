{
 "cells": [
  {
   "cell_type": "code",
   "execution_count": 1,
   "outputs": [],
   "source": [
    "import numpy as np\n",
    "import torch\n",
    "from torch import nn\n",
    "from sklearn.impute import KNNImputer\n",
    "import matplotlib.pyplot as plt\n",
    "\n",
    "import data_load\n",
    "import data_process\n",
    "import model\n",
    "import train_model\n",
    "device = torch.device(\"cuda\" if torch.cuda.is_available() else \"cpu\")"
   ],
   "metadata": {
    "collapsed": false,
    "ExecuteTime": {
     "end_time": "2023-07-06T08:01:21.053325200Z",
     "start_time": "2023-07-06T08:01:13.681233800Z"
    }
   }
  },
  {
   "cell_type": "code",
   "execution_count": 2,
   "outputs": [
    {
     "ename": "AttributeError",
     "evalue": "module 'data_load' has no attribute 'load_turbine_standardized_data_without_time'",
     "output_type": "error",
     "traceback": [
      "\u001B[1;31m---------------------------------------------------------------------------\u001B[0m",
      "\u001B[1;31mAttributeError\u001B[0m                            Traceback (most recent call last)",
      "Cell \u001B[1;32mIn[2], line 1\u001B[0m\n\u001B[1;32m----> 1\u001B[0m data \u001B[38;5;241m=\u001B[39m \u001B[43mdata_load\u001B[49m\u001B[38;5;241;43m.\u001B[39;49m\u001B[43mload_turbine_standardized_data_without_time\u001B[49m(\n\u001B[0;32m      2\u001B[0m     \u001B[38;5;124m\"\u001B[39m\u001B[38;5;124mdata/Turbine_Data_Penmanshiel_11_2021-01-01_-_2021-07-01_1051.csv\u001B[39m\u001B[38;5;124m\"\u001B[39m)\n\u001B[0;32m      3\u001B[0m data_imputer \u001B[38;5;241m=\u001B[39m KNNImputer(n_neighbors\u001B[38;5;241m=\u001B[39m\u001B[38;5;241m10\u001B[39m)\n\u001B[0;32m      4\u001B[0m data \u001B[38;5;241m=\u001B[39m data_process\u001B[38;5;241m.\u001B[39mimpute_data(data)\n",
      "\u001B[1;31mAttributeError\u001B[0m: module 'data_load' has no attribute 'load_turbine_standardized_data_without_time'"
     ]
    }
   ],
   "source": [
    "data = data_load.load_turbine_standardized_data_without_time(\n",
    "    \"data/Turbine_Data_Penmanshiel_11_2021-01-01_-_2021-07-01_1051.csv\")\n",
    "data_imputer = KNNImputer(n_neighbors=10)\n",
    "data = data_process.impute_data(data)\n",
    "data = data_process.normalize_data(data)\n",
    "data = np.array(data, dtype='float32')"
   ],
   "metadata": {
    "collapsed": false,
    "ExecuteTime": {
     "end_time": "2023-07-06T08:01:22.206773100Z",
     "start_time": "2023-07-06T08:01:21.055329Z"
    }
   }
  },
  {
   "cell_type": "code",
   "execution_count": null,
   "outputs": [],
   "source": [
    "from sklearn.model_selection import TimeSeriesSplit\n",
    "\n",
    "epochs = 3000\n",
    "k = 1\n",
    "tscv = TimeSeriesSplit(n_splits=2, test_size=int(np.size(data, axis=0)*0.1))\n",
    "i=0\n",
    "\n",
    "for i, (train_index, test_index) in enumerate(tscv.split(data)):\n",
    "    if i == 0:\n",
    "        continue\n",
    "    ae_model = model.RnnAutoEncoder(input_size=np.size(data, axis=1)).to(device)\n",
    "    loss = nn.MSELoss()\n",
    "    # optimizer = torch.optim.SGD(ae_model.parameters(), lr=0.001)\n",
    "    optimizer = torch.optim.Adam(ae_model.parameters(), lr=0.001)\n",
    "    X_train, X_test = data[train_index], data[test_index]\n",
    "    for epoch in range(epochs):\n",
    "        print(f\"\\n=====epoch {epoch}/{epochs}=====\")\n",
    "        train_model.train(data_x=X_train, data_y=X_train, model=ae_model, loss_fn=loss, optimizer=optimizer, batch_size=np.size(data, axis=0))\n",
    "\n",
    "    res = train_model.autoencoder_test(X_test, X_test, ae_model, 1000)\n",
    "    # break"
   ],
   "metadata": {
    "collapsed": false
   }
  },
  {
   "cell_type": "code",
   "execution_count": null,
   "outputs": [],
   "source": [
    "import scipy\n",
    "\n",
    "res_sorted = np.sort(res)\n",
    "res_cdf = 1. * np.arange(len(res)) / (len(res) - 1)\n",
    "# plt.hist(res, bins=200)\n",
    "plt.plot(res_sorted, res_cdf)\n",
    "plt.xlim(0, 150)\n",
    "plt.show()"
   ],
   "metadata": {
    "collapsed": false
   }
  }
 ],
 "metadata": {
  "kernelspec": {
   "display_name": "Python 3",
   "language": "python",
   "name": "python3"
  },
  "language_info": {
   "codemirror_mode": {
    "name": "ipython",
    "version": 2
   },
   "file_extension": ".py",
   "mimetype": "text/x-python",
   "name": "python",
   "nbconvert_exporter": "python",
   "pygments_lexer": "ipython2",
   "version": "2.7.6"
  }
 },
 "nbformat": 4,
 "nbformat_minor": 0
}
