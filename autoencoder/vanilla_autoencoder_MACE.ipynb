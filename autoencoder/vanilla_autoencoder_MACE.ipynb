{
 "cells": [
  {
   "cell_type": "code",
   "execution_count": 1,
   "metadata": {
    "ExecuteTime": {
     "end_time": "2023-08-29T16:45:39.767925200Z",
     "start_time": "2023-08-29T16:45:36.845155100Z"
    }
   },
   "outputs": [
    {
     "name": "stdout",
     "output_type": "stream",
     "text": []
    }
   ],
   "source": [
    "%%bash\n",
    "echo $PYTHONPATH"
   ]
  },
  {
   "cell_type": "code",
   "execution_count": 2,
   "metadata": {
    "ExecuteTime": {
     "end_time": "2023-08-29T16:45:43.286310600Z",
     "start_time": "2023-08-29T16:45:39.740889300Z"
    }
   },
   "outputs": [],
   "source": [
    "import numpy as np\n",
    "import pandas as pd\n",
    "import torch\n",
    "from torch import nn\n",
    "from sklearn.impute import KNNImputer\n",
    "import matplotlib.pyplot as plt\n",
    "\n",
    "import data_load\n",
    "import data_process\n",
    "import model\n",
    "import train_model\n",
    "device = torch.device(\"cuda\" if torch.cuda.is_available() else \"cpu\")"
   ]
  },
  {
   "cell_type": "code",
   "execution_count": 3,
   "metadata": {
    "ExecuteTime": {
     "end_time": "2023-08-29T16:46:11.207083600Z",
     "start_time": "2023-08-29T16:45:43.289308800Z"
    }
   },
   "outputs": [
    {
     "name": "stdout",
     "output_type": "stream",
     "text": [
      "(26064, 1)\n"
     ]
    }
   ],
   "source": [
    "from sklearn import preprocessing\n",
    "\n",
    "DATA_PATH = \"../data/Turbine_Data_Penmanshiel_11_2021-01-01_-_2021-07-01_1051.csv\"\n",
    "LOGS_PATH = \"../data/Status_Penmanshiel_11_2021-01-01_-_2021-07-01_1051.csv\"\n",
    "\n",
    "data = data_load.load_turbine_data_without_time(DATA_PATH)\n",
    "logs = data_load.load_turbine_logs_with_endtime(LOGS_PATH)\n",
    "labels = data_load.get_data_label(data_load.load_turbine_data(DATA_PATH), logs)\n",
    "# data_cols = data.columns[1:2]\n",
    "# data = data[data_cols]\n",
    "scaler = preprocessing.StandardScaler()\n",
    "data_imputer = KNNImputer(n_neighbors=10)\n",
    "data = data_process.impute_data(data)\n",
    "data = data_process.standardize_data(data, scaler=scaler)\n",
    "print(data.shape)\n",
    "data = np.array(data, dtype='float32')"
   ]
  },
  {
   "cell_type": "code",
   "execution_count": 4,
   "metadata": {
    "ExecuteTime": {
     "end_time": "2023-08-29T16:46:13.058313500Z",
     "start_time": "2023-08-29T16:46:11.200082100Z"
    }
   },
   "outputs": [
    {
     "name": "stdout",
     "output_type": "stream",
     "text": [
      "\n",
      "=====epoch 0/30=====\n",
      "loss: 1.017065  [21876/21876]\n",
      "\n",
      "=====epoch 1/30=====\n",
      "loss: 1.006286  [21876/21876]\n",
      "\n",
      "=====epoch 2/30=====\n",
      "loss: 0.992488  [21876/21876]\n",
      "\n",
      "=====epoch 3/30=====\n",
      "loss: 0.971539  [21876/21876]\n",
      "\n",
      "=====epoch 4/30=====\n",
      "loss: 0.941678  [21876/21876]\n",
      "\n",
      "=====epoch 5/30=====\n",
      "loss: 0.900855  [21876/21876]\n",
      "\n",
      "=====epoch 6/30=====\n",
      "loss: 0.848010  [21876/21876]\n",
      "\n",
      "=====epoch 7/30=====\n",
      "loss: 0.783518  [21876/21876]\n",
      "\n",
      "=====epoch 8/30=====\n",
      "loss: 0.706970  [21876/21876]\n",
      "\n",
      "=====epoch 9/30=====\n",
      "loss: 0.619191  [21876/21876]\n",
      "\n",
      "=====epoch 10/30=====\n",
      "loss: 0.522265  [21876/21876]\n",
      "\n",
      "=====epoch 11/30=====\n",
      "loss: 0.418611  [21876/21876]\n",
      "\n",
      "=====epoch 12/30=====\n",
      "loss: 0.316191  [21876/21876]\n",
      "\n",
      "=====epoch 13/30=====\n",
      "loss: 0.233057  [21876/21876]\n",
      "\n",
      "=====epoch 14/30=====\n",
      "loss: 0.195965  [21876/21876]\n",
      "\n",
      "=====epoch 15/30=====\n",
      "loss: 0.206848  [21876/21876]\n",
      "\n",
      "=====epoch 16/30=====\n",
      "loss: 0.201753  [21876/21876]\n",
      "\n",
      "=====epoch 17/30=====\n",
      "loss: 0.162062  [21876/21876]\n",
      "\n",
      "=====epoch 18/30=====\n",
      "loss: 0.124145  [21876/21876]\n",
      "\n",
      "=====epoch 19/30=====\n",
      "loss: 0.114260  [21876/21876]\n",
      "\n",
      "=====epoch 20/30=====\n",
      "loss: 0.129098  [21876/21876]\n",
      "\n",
      "=====epoch 21/30=====\n",
      "loss: 0.143540  [21876/21876]\n",
      "\n",
      "=====epoch 22/30=====\n",
      "loss: 0.142026  [21876/21876]\n",
      "\n",
      "=====epoch 23/30=====\n",
      "loss: 0.126531  [21876/21876]\n",
      "\n",
      "=====epoch 24/30=====\n",
      "loss: 0.105883  [21876/21876]\n",
      "\n",
      "=====epoch 25/30=====\n",
      "loss: 0.088586  [21876/21876]\n",
      "\n",
      "=====epoch 26/30=====\n",
      "loss: 0.078917  [21876/21876]\n",
      "\n",
      "=====epoch 27/30=====\n",
      "loss: 0.074382  [21876/21876]\n",
      "\n",
      "=====epoch 28/30=====\n",
      "loss: 0.068541  [21876/21876]\n",
      "\n",
      "=====epoch 29/30=====\n",
      "loss: 0.058524  [21876/21876]\n"
     ]
    }
   ],
   "source": [
    "from sklearn.model_selection import train_test_split\n",
    "\n",
    "epochs = 30\n",
    "k = 10\n",
    "\n",
    "i = 0\n",
    "labels = np.array(labels)\n",
    "\n",
    "X_train, X_test, y_train, y_test = train_test_split(data, labels, test_size=0.1)\n",
    "# for train, test in kf.split(data):\n",
    "#     ae_model = model.AutoEncoder(input_size=np.size(data, axis=1)).to(device)\n",
    "#     loss = nn.MSELoss()\n",
    "#     # optimizer = torch.optim.SGD(ae_model.parameters(), lr=0.001)\n",
    "#     optimizer = torch.optim.Adam(ae_model.parameters(), lr=0.0015)\n",
    "#     train_labels = labels[train]\n",
    "#     test_labels = labels[test]\n",
    "#     X_train, X_test = data[train][train_labels==0], data[test]\n",
    "#     for epoch in range(epochs):\n",
    "#         print(f\"\\n=====epoch {epoch}/{epochs}=====\")\n",
    "#         train_model.train(data_x=X_train, data_y=X_train, model=ae_model, loss_fn=loss, optimizer=optimizer,\n",
    "#                           batch_size=30000)\n",
    "#\n",
    "#     res = train_model.autoencoder_test(X_test, X_test, ae_model, 1000)\n",
    "#     i += 1\n",
    "#     if i == 1:\n",
    "#         break\n",
    "\n",
    "X_train = X_train[y_train == 0]\n",
    "\n",
    "ae_model = model.AutoEncoder(input_size=np.size(data, axis=1)).to(device)\n",
    "loss = nn.MSELoss()\n",
    "# optimizer = torch.optim.SGD(ae_model.parameters(), lr=0.001)\n",
    "optimizer = torch.optim.Adam(ae_model.parameters(), lr=0.0015)\n",
    "\n",
    "for epoch in range(epochs):\n",
    "    print(f\"\\n=====epoch {epoch}/{epochs}=====\")\n",
    "    train_model.train(data_x=X_train, data_y=X_train, model=ae_model, loss_fn=loss, optimizer=optimizer,\n",
    "                      batch_size=30000)\n",
    "\n",
    "res = train_model.autoencoder_test(X_test, X_test, ae_model, 1000)"
   ]
  },
  {
   "cell_type": "code",
   "execution_count": 5,
   "metadata": {
    "ExecuteTime": {
     "end_time": "2023-08-29T16:46:13.256356700Z",
     "start_time": "2023-08-29T16:46:13.062310500Z"
    }
   },
   "outputs": [
    {
     "name": "stdout",
     "output_type": "stream",
     "text": [
      "0.32816346520578343\n"
     ]
    },
    {
     "data": {
      "text/plain": "<Figure size 640x480 with 1 Axes>",
      "image/png": "[encoded data removed]"
     },
     "metadata": {},
     "output_type": "display_data"
    }
   ],
   "source": [
    "import sklearn.metrics as metrics\n",
    "\n",
    "res_sorted = np.sort(res)\n",
    "res_cdf = 1. * np.arange(len(res)) / (len(res) - 1)\n",
    "point_color = [\"red\" if label == 1 else \"blue\" for label in y_test]\n",
    "point_size = [0.1 if label == 0 else 10 for label in y_test]\n",
    "# plt.hist(res, bins=200)\n",
    "# plt.scatter(res, range(res.size), s=point_size, c=point_color)\n",
    "\n",
    "fpr, tpr, _ = metrics.roc_curve(y_test, res)\n",
    "\n",
    "precision, recall, threshold = metrics.precision_recall_curve(y_test, res)\n",
    "\n",
    "# precision = precision[0:-3]\n",
    "#\n",
    "# recall = recall[0:-3]\n",
    "\n",
    "plt.plot(recall, precision)\n",
    "\n",
    "# print(precision, recall)\n",
    "\n",
    "print(metrics.auc(fpr, tpr))\n",
    "# print(metrics.auc(precision, recall))\n",
    "\n",
    "# print(metrics.f1_score(test_labels, res))\n",
    "\n",
    "# plt.scatter(res_sorted, range(res.size), s=point_size, c=point_color)\n",
    "# plt.xlim(0, 150)\n",
    "plt.ylabel(\"precision\")\n",
    "plt.xlabel(\"recall\")\n",
    "plt.title(\"vanilla ae\")\n",
    "plt.show()"
   ]
  },
  {
   "cell_type": "code",
   "execution_count": 6,
   "metadata": {
    "ExecuteTime": {
     "end_time": "2023-08-29T16:46:13.398874100Z",
     "start_time": "2023-08-29T16:46:13.258355600Z"
    }
   },
   "outputs": [
    {
     "data": {
      "text/plain": "<Figure size 640x480 with 1 Axes>",
      "image/png": "[encoded data removed]"
     },
     "metadata": {},
     "output_type": "display_data"
    }
   ],
   "source": [
    "plt.plot(fpr, tpr)\n",
    "plt.xlabel(\"false positive\")\n",
    "plt.ylabel(\"true positive\")\n",
    "plt.title(\"vanilla ae\")\n",
    "plt.show()"
   ]
  },
  {
   "cell_type": "code",
   "execution_count": 7,
   "metadata": {
    "ExecuteTime": {
     "end_time": "2023-08-29T16:46:29.486524800Z",
     "start_time": "2023-08-29T16:46:13.399877700Z"
    }
   },
   "outputs": [
    {
     "name": "stderr",
     "output_type": "stream",
     "text": [
      "C:\\Users\\sxf84\\.conda\\envs\\windTurbineExp\\lib\\site-packages\\shap\\utils\\_clustering.py:35: NumbaDeprecationWarning: \u001B[1mThe 'nopython' keyword argument was not supplied to the 'numba.jit' decorator. The implicit default value for this argument is currently False, but it will be changed to True in Numba 0.59.0. See https://numba.readthedocs.io/en/stable/reference/deprecation.html#deprecation-of-object-mode-fall-back-behaviour-when-using-jit for details.\u001B[0m\n",
      "  def _pt_shuffle_rec(i, indexes, index_mask, partition_tree, M, pos):\n",
      "C:\\Users\\sxf84\\.conda\\envs\\windTurbineExp\\lib\\site-packages\\shap\\utils\\_clustering.py:54: NumbaDeprecationWarning: \u001B[1mThe 'nopython' keyword argument was not supplied to the 'numba.jit' decorator. The implicit default value for this argument is currently False, but it will be changed to True in Numba 0.59.0. See https://numba.readthedocs.io/en/stable/reference/deprecation.html#deprecation-of-object-mode-fall-back-behaviour-when-using-jit for details.\u001B[0m\n",
      "  def delta_minimization_order(all_masks, max_swap_size=100, num_passes=2):\n",
      "C:\\Users\\sxf84\\.conda\\envs\\windTurbineExp\\lib\\site-packages\\shap\\utils\\_clustering.py:63: NumbaDeprecationWarning: \u001B[1mThe 'nopython' keyword argument was not supplied to the 'numba.jit' decorator. The implicit default value for this argument is currently False, but it will be changed to True in Numba 0.59.0. See https://numba.readthedocs.io/en/stable/reference/deprecation.html#deprecation-of-object-mode-fall-back-behaviour-when-using-jit for details.\u001B[0m\n",
      "  def _reverse_window(order, start, length):\n",
      "C:\\Users\\sxf84\\.conda\\envs\\windTurbineExp\\lib\\site-packages\\shap\\utils\\_clustering.py:69: NumbaDeprecationWarning: \u001B[1mThe 'nopython' keyword argument was not supplied to the 'numba.jit' decorator. The implicit default value for this argument is currently False, but it will be changed to True in Numba 0.59.0. See https://numba.readthedocs.io/en/stable/reference/deprecation.html#deprecation-of-object-mode-fall-back-behaviour-when-using-jit for details.\u001B[0m\n",
      "  def _reverse_window_score_gain(masks, order, start, length):\n",
      "C:\\Users\\sxf84\\.conda\\envs\\windTurbineExp\\lib\\site-packages\\shap\\utils\\_clustering.py:77: NumbaDeprecationWarning: \u001B[1mThe 'nopython' keyword argument was not supplied to the 'numba.jit' decorator. The implicit default value for this argument is currently False, but it will be changed to True in Numba 0.59.0. See https://numba.readthedocs.io/en/stable/reference/deprecation.html#deprecation-of-object-mode-fall-back-behaviour-when-using-jit for details.\u001B[0m\n",
      "  def _mask_delta_score(m1, m2):\n",
      "C:\\Users\\sxf84\\.conda\\envs\\windTurbineExp\\lib\\site-packages\\shap\\links.py:5: NumbaDeprecationWarning: \u001B[1mThe 'nopython' keyword argument was not supplied to the 'numba.jit' decorator. The implicit default value for this argument is currently False, but it will be changed to True in Numba 0.59.0. See https://numba.readthedocs.io/en/stable/reference/deprecation.html#deprecation-of-object-mode-fall-back-behaviour-when-using-jit for details.\u001B[0m\n",
      "  def identity(x):\n",
      "C:\\Users\\sxf84\\.conda\\envs\\windTurbineExp\\lib\\site-packages\\shap\\links.py:10: NumbaDeprecationWarning: \u001B[1mThe 'nopython' keyword argument was not supplied to the 'numba.jit' decorator. The implicit default value for this argument is currently False, but it will be changed to True in Numba 0.59.0. See https://numba.readthedocs.io/en/stable/reference/deprecation.html#deprecation-of-object-mode-fall-back-behaviour-when-using-jit for details.\u001B[0m\n",
      "  def _identity_inverse(x):\n",
      "C:\\Users\\sxf84\\.conda\\envs\\windTurbineExp\\lib\\site-packages\\shap\\links.py:15: NumbaDeprecationWarning: \u001B[1mThe 'nopython' keyword argument was not supplied to the 'numba.jit' decorator. The implicit default value for this argument is currently False, but it will be changed to True in Numba 0.59.0. See https://numba.readthedocs.io/en/stable/reference/deprecation.html#deprecation-of-object-mode-fall-back-behaviour-when-using-jit for details.\u001B[0m\n",
      "  def logit(x):\n",
      "C:\\Users\\sxf84\\.conda\\envs\\windTurbineExp\\lib\\site-packages\\shap\\links.py:20: NumbaDeprecationWarning: \u001B[1mThe 'nopython' keyword argument was not supplied to the 'numba.jit' decorator. The implicit default value for this argument is currently False, but it will be changed to True in Numba 0.59.0. See https://numba.readthedocs.io/en/stable/reference/deprecation.html#deprecation-of-object-mode-fall-back-behaviour-when-using-jit for details.\u001B[0m\n",
      "  def _logit_inverse(x):\n",
      "C:\\Users\\sxf84\\.conda\\envs\\windTurbineExp\\lib\\site-packages\\shap\\utils\\_masked_model.py:363: NumbaDeprecationWarning: \u001B[1mThe 'nopython' keyword argument was not supplied to the 'numba.jit' decorator. The implicit default value for this argument is currently False, but it will be changed to True in Numba 0.59.0. See https://numba.readthedocs.io/en/stable/reference/deprecation.html#deprecation-of-object-mode-fall-back-behaviour-when-using-jit for details.\u001B[0m\n",
      "  def _build_fixed_single_output(averaged_outs, last_outs, outputs, batch_positions, varying_rows, num_varying_rows, link, linearizing_weights):\n",
      "C:\\Users\\sxf84\\.conda\\envs\\windTurbineExp\\lib\\site-packages\\shap\\utils\\_masked_model.py:385: NumbaDeprecationWarning: \u001B[1mThe 'nopython' keyword argument was not supplied to the 'numba.jit' decorator. The implicit default value for this argument is currently False, but it will be changed to True in Numba 0.59.0. See https://numba.readthedocs.io/en/stable/reference/deprecation.html#deprecation-of-object-mode-fall-back-behaviour-when-using-jit for details.\u001B[0m\n",
      "  def _build_fixed_multi_output(averaged_outs, last_outs, outputs, batch_positions, varying_rows, num_varying_rows, link, linearizing_weights):\n",
      "C:\\Users\\sxf84\\.conda\\envs\\windTurbineExp\\lib\\site-packages\\shap\\utils\\_masked_model.py:428: NumbaDeprecationWarning: \u001B[1mThe 'nopython' keyword argument was not supplied to the 'numba.jit' decorator. The implicit default value for this argument is currently False, but it will be changed to True in Numba 0.59.0. See https://numba.readthedocs.io/en/stable/reference/deprecation.html#deprecation-of-object-mode-fall-back-behaviour-when-using-jit for details.\u001B[0m\n",
      "  def _init_masks(cluster_matrix, M, indices_row_pos, indptr):\n",
      "C:\\Users\\sxf84\\.conda\\envs\\windTurbineExp\\lib\\site-packages\\shap\\utils\\_masked_model.py:439: NumbaDeprecationWarning: \u001B[1mThe 'nopython' keyword argument was not supplied to the 'numba.jit' decorator. The implicit default value for this argument is currently False, but it will be changed to True in Numba 0.59.0. See https://numba.readthedocs.io/en/stable/reference/deprecation.html#deprecation-of-object-mode-fall-back-behaviour-when-using-jit for details.\u001B[0m\n",
      "  def _rec_fill_masks(cluster_matrix, indices_row_pos, indptr, indices, M, ind):\n",
      "C:\\Users\\sxf84\\.conda\\envs\\windTurbineExp\\lib\\site-packages\\shap\\maskers\\_tabular.py:186: NumbaDeprecationWarning: \u001B[1mThe 'nopython' keyword argument was not supplied to the 'numba.jit' decorator. The implicit default value for this argument is currently False, but it will be changed to True in Numba 0.59.0. See https://numba.readthedocs.io/en/stable/reference/deprecation.html#deprecation-of-object-mode-fall-back-behaviour-when-using-jit for details.\u001B[0m\n",
      "  def _single_delta_mask(dind, masked_inputs, last_mask, data, x, noop_code):\n",
      "C:\\Users\\sxf84\\.conda\\envs\\windTurbineExp\\lib\\site-packages\\shap\\maskers\\_tabular.py:197: NumbaDeprecationWarning: \u001B[1mThe 'nopython' keyword argument was not supplied to the 'numba.jit' decorator. The implicit default value for this argument is currently False, but it will be changed to True in Numba 0.59.0. See https://numba.readthedocs.io/en/stable/reference/deprecation.html#deprecation-of-object-mode-fall-back-behaviour-when-using-jit for details.\u001B[0m\n",
      "  def _delta_masking(masks, x, curr_delta_inds, varying_rows_out,\n",
      "C:\\Users\\sxf84\\.conda\\envs\\windTurbineExp\\lib\\site-packages\\shap\\maskers\\_image.py:175: NumbaDeprecationWarning: \u001B[1mThe 'nopython' keyword argument was not supplied to the 'numba.jit' decorator. The implicit default value for this argument is currently False, but it will be changed to True in Numba 0.59.0. See https://numba.readthedocs.io/en/stable/reference/deprecation.html#deprecation-of-object-mode-fall-back-behaviour-when-using-jit for details.\u001B[0m\n",
      "  def _jit_build_partition_tree(xmin, xmax, ymin, ymax, zmin, zmax, total_ywidth, total_zwidth, M, clustering, q):\n",
      "C:\\Users\\sxf84\\.conda\\envs\\windTurbineExp\\lib\\site-packages\\shap\\explainers\\_partition.py:676: NumbaDeprecationWarning: \u001B[1mThe 'nopython' keyword argument was not supplied to the 'numba.jit' decorator. The implicit default value for this argument is currently False, but it will be changed to True in Numba 0.59.0. See https://numba.readthedocs.io/en/stable/reference/deprecation.html#deprecation-of-object-mode-fall-back-behaviour-when-using-jit for details.\u001B[0m\n",
      "  def lower_credit(i, value, M, values, clustering):\n",
      "\u001B[1mThe 'nopython' keyword argument was not supplied to the 'numba.jit' decorator. The implicit default value for this argument is currently False, but it will be changed to True in Numba 0.59.0. See https://numba.readthedocs.io/en/stable/reference/deprecation.html#deprecation-of-object-mode-fall-back-behaviour-when-using-jit for details.\u001B[0m\n",
      "\u001B[1mThe 'nopython' keyword argument was not supplied to the 'numba.jit' decorator. The implicit default value for this argument is currently False, but it will be changed to True in Numba 0.59.0. See https://numba.readthedocs.io/en/stable/reference/deprecation.html#deprecation-of-object-mode-fall-back-behaviour-when-using-jit for details.\u001B[0m\n",
      "X has feature names, but StandardScaler was fitted without feature names\n"
     ]
    },
    {
     "ename": "ValueError",
     "evalue": "setting an array element with a sequence. The requested array would exceed the maximum number of dimension of 32.",
     "output_type": "error",
     "traceback": [
      "\u001B[1;31m---------------------------------------------------------------------------\u001B[0m",
      "\u001B[1;31mValueError\u001B[0m                                Traceback (most recent call last)",
      "Cell \u001B[1;32mIn[7], line 31\u001B[0m\n\u001B[0;32m     26\u001B[0m     \u001B[38;5;28;01mreturn\u001B[39;00m torch\u001B[38;5;241m.\u001B[39mtensor([[\u001B[38;5;241m1\u001B[39m\u001B[38;5;241m-\u001B[39mn, n] \u001B[38;5;28;01mfor\u001B[39;00m n \u001B[38;5;129;01min\u001B[39;00m res])\n\u001B[0;32m     27\u001B[0m     \u001B[38;5;66;03m# return res\u001B[39;00m\n\u001B[0;32m     28\u001B[0m \n\u001B[0;32m     29\u001B[0m \u001B[38;5;66;03m# print(tabular_data)\u001B[39;00m\n\u001B[1;32m---> 31\u001B[0m explainer \u001B[38;5;241m=\u001B[39m \u001B[43mMACEExplainer\u001B[49m\u001B[43m(\u001B[49m\n\u001B[0;32m     32\u001B[0m \u001B[43m    \u001B[49m\u001B[43mtraining_data\u001B[49m\u001B[38;5;241;43m=\u001B[39;49m\u001B[43mSampler\u001B[49m\u001B[38;5;241;43m.\u001B[39;49m\u001B[43msubsample\u001B[49m\u001B[43m(\u001B[49m\u001B[43mtabular_data\u001B[49m\u001B[43m,\u001B[49m\u001B[43m \u001B[49m\u001B[38;5;241;43m0.1\u001B[39;49m\u001B[43m)\u001B[49m\u001B[43m,\u001B[49m\n\u001B[0;32m     33\u001B[0m \u001B[43m    \u001B[49m\u001B[43mpredict_function\u001B[49m\u001B[38;5;241;43m=\u001B[39;49m\u001B[43mpredict_function\u001B[49m\u001B[43m,\u001B[49m\n\u001B[0;32m     34\u001B[0m \u001B[43m)\u001B[49m\n",
      "File \u001B[1;32m~\\.conda\\envs\\windTurbineExp\\lib\\site-packages\\omnixai\\explainers\\tabular\\counterfactual\\mace\\mace.py:74\u001B[0m, in \u001B[0;36mMACEExplainer.__init__\u001B[1;34m(self, training_data, predict_function, mode, ignored_features, method, use_knn, **kwargs)\u001B[0m\n\u001B[0;32m     71\u001B[0m \u001B[38;5;28mself\u001B[39m\u001B[38;5;241m.\u001B[39moriginal_feature_columns \u001B[38;5;241m=\u001B[39m training_data\u001B[38;5;241m.\u001B[39mcolumns\n\u001B[0;32m     73\u001B[0m \u001B[38;5;28;01mif\u001B[39;00m use_knn:\n\u001B[1;32m---> 74\u001B[0m     \u001B[38;5;28mself\u001B[39m\u001B[38;5;241m.\u001B[39mrecall \u001B[38;5;241m=\u001B[39m CFRetrieval(training_data, predict_function, ignored_features, \u001B[38;5;241m*\u001B[39m\u001B[38;5;241m*\u001B[39mkwargs)\n\u001B[0;32m     75\u001B[0m \u001B[38;5;28;01melse\u001B[39;00m:\n\u001B[0;32m     76\u001B[0m     \u001B[38;5;28mself\u001B[39m\u001B[38;5;241m.\u001B[39mrecall \u001B[38;5;241m=\u001B[39m SimpleCFRetrieval(training_data, ignored_features, \u001B[38;5;241m*\u001B[39m\u001B[38;5;241m*\u001B[39mkwargs)\n",
      "File \u001B[1;32m~\\.conda\\envs\\windTurbineExp\\lib\\site-packages\\omnixai\\explainers\\tabular\\counterfactual\\mace\\retrieval.py:65\u001B[0m, in \u001B[0;36mCFRetrieval.__init__\u001B[1;34m(self, training_data, predict_function, ignored_features, feature_column_top_k, feature_value_top_k, num_cont_bins, num_neighbors, hnsw_ef_construction, hnsw_m, hnsw_ef, **kwargs)\u001B[0m\n\u001B[0;32m     62\u001B[0m \u001B[38;5;28mself\u001B[39m\u001B[38;5;241m.\u001B[39mhnsw_m \u001B[38;5;241m=\u001B[39m hnsw_m\n\u001B[0;32m     63\u001B[0m \u001B[38;5;28mself\u001B[39m\u001B[38;5;241m.\u001B[39mhnsw_ef \u001B[38;5;241m=\u001B[39m hnsw_ef\n\u001B[1;32m---> 65\u001B[0m predict_scores \u001B[38;5;241m=\u001B[39m \u001B[43mpredict_function\u001B[49m\u001B[43m(\u001B[49m\u001B[38;5;28;43mself\u001B[39;49m\u001B[38;5;241;43m.\u001B[39;49m\u001B[43msubset\u001B[49m\u001B[43m)\u001B[49m\n\u001B[0;32m     66\u001B[0m predict_labels \u001B[38;5;241m=\u001B[39m np\u001B[38;5;241m.\u001B[39margmax(predict_scores, axis\u001B[38;5;241m=\u001B[39m\u001B[38;5;241m1\u001B[39m)\n\u001B[0;32m     67\u001B[0m class_labels \u001B[38;5;241m=\u001B[39m \u001B[38;5;28msorted\u001B[39m(\u001B[38;5;28mset\u001B[39m(predict_labels))\n",
      "Cell \u001B[1;32mIn[7], line 22\u001B[0m, in \u001B[0;36mpredict_function\u001B[1;34m(x)\u001B[0m\n\u001B[0;32m     21\u001B[0m \u001B[38;5;28;01mdef\u001B[39;00m \u001B[38;5;21mpredict_function\u001B[39m(x):\n\u001B[1;32m---> 22\u001B[0m     x \u001B[38;5;241m=\u001B[39m \u001B[43mscaler\u001B[49m\u001B[38;5;241;43m.\u001B[39;49m\u001B[43mtransform\u001B[49m\u001B[43m(\u001B[49m\u001B[43mx\u001B[49m\u001B[43m)\u001B[49m\n\u001B[0;32m     23\u001B[0m     \u001B[38;5;28mprint\u001B[39m(x)\n\u001B[0;32m     24\u001B[0m     distance \u001B[38;5;241m=\u001B[39m train_model\u001B[38;5;241m.\u001B[39mautoencoder_test(x, x, ae_model, \u001B[38;5;28mlen\u001B[39m(x))\n",
      "File \u001B[1;32m~\\.conda\\envs\\windTurbineExp\\lib\\site-packages\\sklearn\\utils\\_set_output.py:140\u001B[0m, in \u001B[0;36m_wrap_method_output.<locals>.wrapped\u001B[1;34m(self, X, *args, **kwargs)\u001B[0m\n\u001B[0;32m    138\u001B[0m \u001B[38;5;129m@wraps\u001B[39m(f)\n\u001B[0;32m    139\u001B[0m \u001B[38;5;28;01mdef\u001B[39;00m \u001B[38;5;21mwrapped\u001B[39m(\u001B[38;5;28mself\u001B[39m, X, \u001B[38;5;241m*\u001B[39margs, \u001B[38;5;241m*\u001B[39m\u001B[38;5;241m*\u001B[39mkwargs):\n\u001B[1;32m--> 140\u001B[0m     data_to_wrap \u001B[38;5;241m=\u001B[39m f(\u001B[38;5;28mself\u001B[39m, X, \u001B[38;5;241m*\u001B[39margs, \u001B[38;5;241m*\u001B[39m\u001B[38;5;241m*\u001B[39mkwargs)\n\u001B[0;32m    141\u001B[0m     \u001B[38;5;28;01mif\u001B[39;00m \u001B[38;5;28misinstance\u001B[39m(data_to_wrap, \u001B[38;5;28mtuple\u001B[39m):\n\u001B[0;32m    142\u001B[0m         \u001B[38;5;66;03m# only wrap the first output for cross decomposition\u001B[39;00m\n\u001B[0;32m    143\u001B[0m         \u001B[38;5;28;01mreturn\u001B[39;00m (\n\u001B[0;32m    144\u001B[0m             _wrap_data_with_container(method, data_to_wrap[\u001B[38;5;241m0\u001B[39m], X, \u001B[38;5;28mself\u001B[39m),\n\u001B[0;32m    145\u001B[0m             \u001B[38;5;241m*\u001B[39mdata_to_wrap[\u001B[38;5;241m1\u001B[39m:],\n\u001B[0;32m    146\u001B[0m         )\n",
      "File \u001B[1;32m~\\.conda\\envs\\windTurbineExp\\lib\\site-packages\\sklearn\\preprocessing\\_data.py:992\u001B[0m, in \u001B[0;36mStandardScaler.transform\u001B[1;34m(self, X, copy)\u001B[0m\n\u001B[0;32m    989\u001B[0m check_is_fitted(\u001B[38;5;28mself\u001B[39m)\n\u001B[0;32m    991\u001B[0m copy \u001B[38;5;241m=\u001B[39m copy \u001B[38;5;28;01mif\u001B[39;00m copy \u001B[38;5;129;01mis\u001B[39;00m \u001B[38;5;129;01mnot\u001B[39;00m \u001B[38;5;28;01mNone\u001B[39;00m \u001B[38;5;28;01melse\u001B[39;00m \u001B[38;5;28mself\u001B[39m\u001B[38;5;241m.\u001B[39mcopy\n\u001B[1;32m--> 992\u001B[0m X \u001B[38;5;241m=\u001B[39m \u001B[38;5;28;43mself\u001B[39;49m\u001B[38;5;241;43m.\u001B[39;49m\u001B[43m_validate_data\u001B[49m\u001B[43m(\u001B[49m\n\u001B[0;32m    993\u001B[0m \u001B[43m    \u001B[49m\u001B[43mX\u001B[49m\u001B[43m,\u001B[49m\n\u001B[0;32m    994\u001B[0m \u001B[43m    \u001B[49m\u001B[43mreset\u001B[49m\u001B[38;5;241;43m=\u001B[39;49m\u001B[38;5;28;43;01mFalse\u001B[39;49;00m\u001B[43m,\u001B[49m\n\u001B[0;32m    995\u001B[0m \u001B[43m    \u001B[49m\u001B[43maccept_sparse\u001B[49m\u001B[38;5;241;43m=\u001B[39;49m\u001B[38;5;124;43m\"\u001B[39;49m\u001B[38;5;124;43mcsr\u001B[39;49m\u001B[38;5;124;43m\"\u001B[39;49m\u001B[43m,\u001B[49m\n\u001B[0;32m    996\u001B[0m \u001B[43m    \u001B[49m\u001B[43mcopy\u001B[49m\u001B[38;5;241;43m=\u001B[39;49m\u001B[43mcopy\u001B[49m\u001B[43m,\u001B[49m\n\u001B[0;32m    997\u001B[0m \u001B[43m    \u001B[49m\u001B[43mdtype\u001B[49m\u001B[38;5;241;43m=\u001B[39;49m\u001B[43mFLOAT_DTYPES\u001B[49m\u001B[43m,\u001B[49m\n\u001B[0;32m    998\u001B[0m \u001B[43m    \u001B[49m\u001B[43mforce_all_finite\u001B[49m\u001B[38;5;241;43m=\u001B[39;49m\u001B[38;5;124;43m\"\u001B[39;49m\u001B[38;5;124;43mallow-nan\u001B[39;49m\u001B[38;5;124;43m\"\u001B[39;49m\u001B[43m,\u001B[49m\n\u001B[0;32m    999\u001B[0m \u001B[43m\u001B[49m\u001B[43m)\u001B[49m\n\u001B[0;32m   1001\u001B[0m \u001B[38;5;28;01mif\u001B[39;00m sparse\u001B[38;5;241m.\u001B[39missparse(X):\n\u001B[0;32m   1002\u001B[0m     \u001B[38;5;28;01mif\u001B[39;00m \u001B[38;5;28mself\u001B[39m\u001B[38;5;241m.\u001B[39mwith_mean:\n",
      "File \u001B[1;32m~\\.conda\\envs\\windTurbineExp\\lib\\site-packages\\sklearn\\base.py:565\u001B[0m, in \u001B[0;36mBaseEstimator._validate_data\u001B[1;34m(self, X, y, reset, validate_separately, **check_params)\u001B[0m\n\u001B[0;32m    563\u001B[0m     \u001B[38;5;28;01mraise\u001B[39;00m \u001B[38;5;167;01mValueError\u001B[39;00m(\u001B[38;5;124m\"\u001B[39m\u001B[38;5;124mValidation should be done on X, y or both.\u001B[39m\u001B[38;5;124m\"\u001B[39m)\n\u001B[0;32m    564\u001B[0m \u001B[38;5;28;01melif\u001B[39;00m \u001B[38;5;129;01mnot\u001B[39;00m no_val_X \u001B[38;5;129;01mand\u001B[39;00m no_val_y:\n\u001B[1;32m--> 565\u001B[0m     X \u001B[38;5;241m=\u001B[39m check_array(X, input_name\u001B[38;5;241m=\u001B[39m\u001B[38;5;124m\"\u001B[39m\u001B[38;5;124mX\u001B[39m\u001B[38;5;124m\"\u001B[39m, \u001B[38;5;241m*\u001B[39m\u001B[38;5;241m*\u001B[39mcheck_params)\n\u001B[0;32m    566\u001B[0m     out \u001B[38;5;241m=\u001B[39m X\n\u001B[0;32m    567\u001B[0m \u001B[38;5;28;01melif\u001B[39;00m no_val_X \u001B[38;5;129;01mand\u001B[39;00m \u001B[38;5;129;01mnot\u001B[39;00m no_val_y:\n",
      "File \u001B[1;32m~\\.conda\\envs\\windTurbineExp\\lib\\site-packages\\sklearn\\utils\\validation.py:879\u001B[0m, in \u001B[0;36mcheck_array\u001B[1;34m(array, accept_sparse, accept_large_sparse, dtype, order, copy, force_all_finite, ensure_2d, allow_nd, ensure_min_samples, ensure_min_features, estimator, input_name)\u001B[0m\n\u001B[0;32m    877\u001B[0m         array \u001B[38;5;241m=\u001B[39m xp\u001B[38;5;241m.\u001B[39mastype(array, dtype, copy\u001B[38;5;241m=\u001B[39m\u001B[38;5;28;01mFalse\u001B[39;00m)\n\u001B[0;32m    878\u001B[0m     \u001B[38;5;28;01melse\u001B[39;00m:\n\u001B[1;32m--> 879\u001B[0m         array \u001B[38;5;241m=\u001B[39m \u001B[43m_asarray_with_order\u001B[49m\u001B[43m(\u001B[49m\u001B[43marray\u001B[49m\u001B[43m,\u001B[49m\u001B[43m \u001B[49m\u001B[43morder\u001B[49m\u001B[38;5;241;43m=\u001B[39;49m\u001B[43morder\u001B[49m\u001B[43m,\u001B[49m\u001B[43m \u001B[49m\u001B[43mdtype\u001B[49m\u001B[38;5;241;43m=\u001B[39;49m\u001B[43mdtype\u001B[49m\u001B[43m,\u001B[49m\u001B[43m \u001B[49m\u001B[43mxp\u001B[49m\u001B[38;5;241;43m=\u001B[39;49m\u001B[43mxp\u001B[49m\u001B[43m)\u001B[49m\n\u001B[0;32m    880\u001B[0m \u001B[38;5;28;01mexcept\u001B[39;00m ComplexWarning \u001B[38;5;28;01mas\u001B[39;00m complex_warning:\n\u001B[0;32m    881\u001B[0m     \u001B[38;5;28;01mraise\u001B[39;00m \u001B[38;5;167;01mValueError\u001B[39;00m(\n\u001B[0;32m    882\u001B[0m         \u001B[38;5;124m\"\u001B[39m\u001B[38;5;124mComplex data not supported\u001B[39m\u001B[38;5;130;01m\\n\u001B[39;00m\u001B[38;5;132;01m{}\u001B[39;00m\u001B[38;5;130;01m\\n\u001B[39;00m\u001B[38;5;124m\"\u001B[39m\u001B[38;5;241m.\u001B[39mformat(array)\n\u001B[0;32m    883\u001B[0m     ) \u001B[38;5;28;01mfrom\u001B[39;00m \u001B[38;5;21;01mcomplex_warning\u001B[39;00m\n",
      "File \u001B[1;32m~\\.conda\\envs\\windTurbineExp\\lib\\site-packages\\sklearn\\utils\\_array_api.py:185\u001B[0m, in \u001B[0;36m_asarray_with_order\u001B[1;34m(array, dtype, order, copy, xp)\u001B[0m\n\u001B[0;32m    182\u001B[0m     xp, _ \u001B[38;5;241m=\u001B[39m get_namespace(array)\n\u001B[0;32m    183\u001B[0m \u001B[38;5;28;01mif\u001B[39;00m xp\u001B[38;5;241m.\u001B[39m\u001B[38;5;18m__name__\u001B[39m \u001B[38;5;129;01min\u001B[39;00m {\u001B[38;5;124m\"\u001B[39m\u001B[38;5;124mnumpy\u001B[39m\u001B[38;5;124m\"\u001B[39m, \u001B[38;5;124m\"\u001B[39m\u001B[38;5;124mnumpy.array_api\u001B[39m\u001B[38;5;124m\"\u001B[39m}:\n\u001B[0;32m    184\u001B[0m     \u001B[38;5;66;03m# Use NumPy API to support order\u001B[39;00m\n\u001B[1;32m--> 185\u001B[0m     array \u001B[38;5;241m=\u001B[39m \u001B[43mnumpy\u001B[49m\u001B[38;5;241;43m.\u001B[39;49m\u001B[43masarray\u001B[49m\u001B[43m(\u001B[49m\u001B[43marray\u001B[49m\u001B[43m,\u001B[49m\u001B[43m \u001B[49m\u001B[43morder\u001B[49m\u001B[38;5;241;43m=\u001B[39;49m\u001B[43morder\u001B[49m\u001B[43m,\u001B[49m\u001B[43m \u001B[49m\u001B[43mdtype\u001B[49m\u001B[38;5;241;43m=\u001B[39;49m\u001B[43mdtype\u001B[49m\u001B[43m)\u001B[49m\n\u001B[0;32m    186\u001B[0m     \u001B[38;5;28;01mreturn\u001B[39;00m xp\u001B[38;5;241m.\u001B[39masarray(array, copy\u001B[38;5;241m=\u001B[39mcopy)\n\u001B[0;32m    187\u001B[0m \u001B[38;5;28;01melse\u001B[39;00m:\n",
      "\u001B[1;31mValueError\u001B[0m: setting an array element with a sequence. The requested array would exceed the maximum number of dimension of 32."
     ]
    }
   ],
   "source": [
    "from omnixai.data.tabular import Tabular\n",
    "from omnixai.preprocessing.tabular import TabularTransform\n",
    "from omnixai.explainers.tabular import MACEExplainer\n",
    "from omnixai.sampler.tabular import Sampler\n",
    "\n",
    "raw_data = data_load.load_turbine_data_without_time(DATA_PATH)\n",
    "# select_cols = raw_data.columns[1:2]\n",
    "# raw_data = raw_data[select_cols]\n",
    "raw_data['label'] = labels\n",
    "feature_names = raw_data.columns.tolist()\n",
    "\n",
    "combined_train_data = raw_data.to_numpy()\n",
    "\n",
    "tabular_data = Tabular(\n",
    "    combined_train_data,\n",
    "    feature_columns=feature_names,\n",
    "    target_column='label'\n",
    "\n",
    ")\n",
    "\n",
    "def predict_function(x):\n",
    "    x = scaler.transform(x)\n",
    "    print(x)\n",
    "    distance = train_model.autoencoder_test(x, x, ae_model, len(x))\n",
    "    res = 1 / (1 + np.exp(-(distance-65)))\n",
    "    return torch.tensor([[1-n, n] for n in res])\n",
    "    # return res\n",
    "\n",
    "# print(tabular_data)\n",
    "\n",
    "explainer = MACEExplainer(\n",
    "    training_data=Sampler.subsample(tabular_data, 0.1),\n",
    "    predict_function=predict_function,\n",
    ")"
   ]
  },
  {
   "cell_type": "code",
   "execution_count": null,
   "metadata": {
    "ExecuteTime": {
     "end_time": "2023-08-29T16:46:29.491519100Z",
     "start_time": "2023-08-29T16:46:29.488521200Z"
    }
   },
   "outputs": [],
   "source": [
    "test_instances = tabular_data.remove_target_column()[0:5]\n",
    "explanations = explainer.explain(test_instances)\n",
    "explanations.get_explanations()"
   ]
  }
 ],
 "metadata": {
  "kernelspec": {
   "display_name": "Python 3 (ipykernel)",
   "language": "python",
   "name": "python3"
  },
  "language_info": {
   "codemirror_mode": {
    "name": "ipython",
    "version": 3
   },
   "file_extension": ".py",
   "mimetype": "text/x-python",
   "name": "python",
   "nbconvert_exporter": "python",
   "pygments_lexer": "ipython3",
   "version": "3.8.16"
  }
 },
 "nbformat": 4,
 "nbformat_minor": 1
}
