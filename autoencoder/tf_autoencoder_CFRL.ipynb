{
 "cells": [
  {
   "cell_type": "code",
   "execution_count": 1,
   "metadata": {
    "ExecuteTime": {
     "end_time": "2023-07-06T08:01:21.053325200Z",
     "start_time": "2023-07-06T08:01:13.681233800Z"
    },
    "collapsed": false
   },
   "outputs": [
    {
     "name": "stderr",
     "output_type": "stream",
     "text": [
      "2023-08-30 08:52:54.895237: I tensorflow/core/platform/cpu_feature_guard.cc:182] This TensorFlow binary is optimized to use available CPU instructions in performance-critical operations.\n",
      "To enable the following instructions: AVX2 FMA, in other operations, rebuild TensorFlow with the appropriate compiler flags.\n",
      "2023-08-30 08:52:55.489945: W tensorflow/compiler/tf2tensorrt/utils/py_utils.cc:38] TF-TRT Warning: Could not find TensorRT\n"
     ]
    }
   ],
   "source": [
    "import numpy as np\n",
    "import tensorflow as tf\n",
    "# tf.compat.v1.disable_eager_execution()\n",
    "# tf.get_logger().setLevel(40)\n",
    "# tf.compat.v1.disable_v2_behavior()\n",
    "from sklearn.impute import KNNImputer\n",
    "import matplotlib.pyplot as plt\n",
    "\n",
    "import data_load\n",
    "import data_process\n",
    "import train_model"
   ]
  },
  {
   "cell_type": "code",
   "execution_count": 2,
   "metadata": {
    "ExecuteTime": {
     "end_time": "2023-07-06T08:01:22.206773100Z",
     "start_time": "2023-07-06T08:01:21.055329Z"
    },
    "collapsed": false
   },
   "outputs": [
    {
     "name": "stdout",
     "output_type": "stream",
     "text": [
      "(26064, 299)\n"
     ]
    }
   ],
   "source": [
    "from sklearn import preprocessing\n",
    "\n",
    "DATA_PATH = \"data/Turbine_Data_Penmanshiel_11_2021-01-01_-_2021-07-01_1051.csv\"\n",
    "LOGS_PATH = \"data/Status_Penmanshiel_11_2021-01-01_-_2021-07-01_1051.csv\"\n",
    "\n",
    "data = data_load.load_turbine_data_without_time(DATA_PATH)\n",
    "logs = data_load.load_turbine_logs_with_endtime(LOGS_PATH)\n",
    "labels = data_load.get_data_label(data_load.load_turbine_data(DATA_PATH), logs)\n",
    "scaler = preprocessing.StandardScaler()\n",
    "data_imputer = KNNImputer(n_neighbors=10)\n",
    "data = data_process.impute_data(data)\n",
    "data = data_process.standardize_data(data, scaler=scaler)\n",
    "print(data.shape)\n",
    "data = np.array(data, dtype='float32')"
   ]
  },
  {
   "cell_type": "code",
   "execution_count": 3,
   "metadata": {
    "collapsed": false
   },
   "outputs": [
    {
     "name": "stderr",
     "output_type": "stream",
     "text": [
      "2023-08-30 08:53:23.771715: I tensorflow/compiler/xla/stream_executor/cuda/cuda_gpu_executor.cc:982] could not open file to read NUMA node: /sys/bus/pci/devices/0000:07:00.0/numa_node\n",
      "Your kernel may have been built without NUMA support.\n",
      "2023-08-30 08:53:23.790400: I tensorflow/compiler/xla/stream_executor/cuda/cuda_gpu_executor.cc:982] could not open file to read NUMA node: /sys/bus/pci/devices/0000:07:00.0/numa_node\n",
      "Your kernel may have been built without NUMA support.\n",
      "2023-08-30 08:53:23.790815: I tensorflow/compiler/xla/stream_executor/cuda/cuda_gpu_executor.cc:982] could not open file to read NUMA node: /sys/bus/pci/devices/0000:07:00.0/numa_node\n",
      "Your kernel may have been built without NUMA support.\n",
      "2023-08-30 08:53:23.792456: I tensorflow/compiler/xla/stream_executor/cuda/cuda_gpu_executor.cc:982] could not open file to read NUMA node: /sys/bus/pci/devices/0000:07:00.0/numa_node\n",
      "Your kernel may have been built without NUMA support.\n",
      "2023-08-30 08:53:23.792896: I tensorflow/compiler/xla/stream_executor/cuda/cuda_gpu_executor.cc:982] could not open file to read NUMA node: /sys/bus/pci/devices/0000:07:00.0/numa_node\n",
      "Your kernel may have been built without NUMA support.\n",
      "2023-08-30 08:53:23.793293: I tensorflow/compiler/xla/stream_executor/cuda/cuda_gpu_executor.cc:982] could not open file to read NUMA node: /sys/bus/pci/devices/0000:07:00.0/numa_node\n",
      "Your kernel may have been built without NUMA support.\n",
      "2023-08-30 08:53:24.747964: I tensorflow/compiler/xla/stream_executor/cuda/cuda_gpu_executor.cc:982] could not open file to read NUMA node: /sys/bus/pci/devices/0000:07:00.0/numa_node\n",
      "Your kernel may have been built without NUMA support.\n",
      "2023-08-30 08:53:24.748677: I tensorflow/compiler/xla/stream_executor/cuda/cuda_gpu_executor.cc:982] could not open file to read NUMA node: /sys/bus/pci/devices/0000:07:00.0/numa_node\n",
      "Your kernel may have been built without NUMA support.\n",
      "2023-08-30 08:53:24.748693: I tensorflow/core/common_runtime/gpu/gpu_device.cc:1722] Could not identify NUMA node of platform GPU id 0, defaulting to 0.  Your kernel may not have been built with NUMA support.\n",
      "2023-08-30 08:53:24.749130: I tensorflow/compiler/xla/stream_executor/cuda/cuda_gpu_executor.cc:982] could not open file to read NUMA node: /sys/bus/pci/devices/0000:07:00.0/numa_node\n",
      "Your kernel may have been built without NUMA support.\n",
      "2023-08-30 08:53:24.749183: I tensorflow/core/common_runtime/gpu/gpu_device.cc:1635] Created device /job:localhost/replica:0/task:0/device:GPU:0 with 5903 MB memory:  -> device: 0, name: NVIDIA GeForce RTX 2060 SUPER, pci bus id: 0000:07:00.0, compute capability: 7.5\n"
     ]
    },
    {
     "name": "stdout",
     "output_type": "stream",
     "text": [
      "Epoch 1/30\n"
     ]
    },
    {
     "name": "stderr",
     "output_type": "stream",
     "text": [
      "2023-08-30 08:53:27.162855: I tensorflow/compiler/xla/service/service.cc:169] XLA service 0x3a1730c0 initialized for platform CUDA (this does not guarantee that XLA will be used). Devices:\n",
      "2023-08-30 08:53:27.162928: I tensorflow/compiler/xla/service/service.cc:177]   StreamExecutor device (0): NVIDIA GeForce RTX 2060 SUPER, Compute Capability 7.5\n",
      "2023-08-30 08:53:27.170551: I tensorflow/compiler/mlir/tensorflow/utils/dump_mlir_util.cc:269] disabling MLIR crash reproducer, set env var `MLIR_CRASH_REPRODUCER_DIRECTORY` to enable.\n",
      "2023-08-30 08:53:27.394360: I tensorflow/compiler/xla/stream_executor/cuda/cuda_dnn.cc:424] Loaded cuDNN version 8900\n",
      "2023-08-30 08:53:27.496039: I tensorflow/tsl/platform/default/subprocess.cc:304] Start cannot spawn child process: No such file or directory\n",
      "2023-08-30 08:53:27.570310: I ./tensorflow/compiler/jit/device_compiler.h:180] Compiled cluster using XLA!  This line is logged at most once for the lifetime of the process.\n"
     ]
    },
    {
     "name": "stdout",
     "output_type": "stream",
     "text": [
      "1/1 [==============================] - 4s 4s/step - loss: 0.7772 - mean_squared_error: 0.7772\n",
      "Epoch 2/30\n",
      "1/1 [==============================] - 0s 45ms/step - loss: 0.7695 - mean_squared_error: 0.7695\n",
      "Epoch 3/30\n",
      "1/1 [==============================] - 0s 48ms/step - loss: 0.7634 - mean_squared_error: 0.7634\n",
      "Epoch 4/30\n",
      "1/1 [==============================] - 0s 40ms/step - loss: 0.7555 - mean_squared_error: 0.7555\n",
      "Epoch 5/30\n",
      "1/1 [==============================] - 0s 37ms/step - loss: 0.7449 - mean_squared_error: 0.7449\n",
      "Epoch 6/30\n",
      "1/1 [==============================] - 0s 34ms/step - loss: 0.7312 - mean_squared_error: 0.7312\n",
      "Epoch 7/30\n",
      "1/1 [==============================] - 0s 50ms/step - loss: 0.7146 - mean_squared_error: 0.7146\n",
      "Epoch 8/30\n",
      "1/1 [==============================] - 0s 51ms/step - loss: 0.6957 - mean_squared_error: 0.6957\n",
      "Epoch 9/30\n",
      "1/1 [==============================] - 0s 48ms/step - loss: 0.6761 - mean_squared_error: 0.6761\n",
      "Epoch 10/30\n",
      "1/1 [==============================] - 0s 52ms/step - loss: 0.6585 - mean_squared_error: 0.6585\n",
      "Epoch 11/30\n",
      "1/1 [==============================] - 0s 57ms/step - loss: 0.6440 - mean_squared_error: 0.6440\n",
      "Epoch 12/30\n",
      "1/1 [==============================] - 0s 55ms/step - loss: 0.6279 - mean_squared_error: 0.6279\n",
      "Epoch 13/30\n",
      "1/1 [==============================] - 0s 69ms/step - loss: 0.6090 - mean_squared_error: 0.6090\n",
      "Epoch 14/30\n",
      "1/1 [==============================] - 0s 34ms/step - loss: 0.5901 - mean_squared_error: 0.5901\n",
      "Epoch 15/30\n",
      "1/1 [==============================] - 0s 34ms/step - loss: 0.5724 - mean_squared_error: 0.5724\n",
      "Epoch 16/30\n",
      "1/1 [==============================] - 0s 29ms/step - loss: 0.5554 - mean_squared_error: 0.5554\n",
      "Epoch 17/30\n",
      "1/1 [==============================] - 0s 30ms/step - loss: 0.5380 - mean_squared_error: 0.5380\n",
      "Epoch 18/30\n",
      "1/1 [==============================] - 0s 31ms/step - loss: 0.5203 - mean_squared_error: 0.5203\n",
      "Epoch 19/30\n",
      "1/1 [==============================] - 0s 26ms/step - loss: 0.5037 - mean_squared_error: 0.5037\n",
      "Epoch 20/30\n",
      "1/1 [==============================] - 0s 28ms/step - loss: 0.4902 - mean_squared_error: 0.4902\n",
      "Epoch 21/30\n",
      "1/1 [==============================] - 0s 30ms/step - loss: 0.4804 - mean_squared_error: 0.4804\n",
      "Epoch 22/30\n",
      "1/1 [==============================] - 0s 47ms/step - loss: 0.4713 - mean_squared_error: 0.4713\n",
      "Epoch 23/30\n",
      "1/1 [==============================] - 0s 30ms/step - loss: 0.4604 - mean_squared_error: 0.4604\n",
      "Epoch 24/30\n",
      "1/1 [==============================] - 0s 32ms/step - loss: 0.4493 - mean_squared_error: 0.4493\n",
      "Epoch 25/30\n",
      "1/1 [==============================] - 0s 30ms/step - loss: 0.4401 - mean_squared_error: 0.4401\n",
      "Epoch 26/30\n",
      "1/1 [==============================] - 0s 31ms/step - loss: 0.4331 - mean_squared_error: 0.4331\n",
      "Epoch 27/30\n",
      "1/1 [==============================] - 0s 29ms/step - loss: 0.4276 - mean_squared_error: 0.4276\n",
      "Epoch 28/30\n",
      "1/1 [==============================] - 0s 31ms/step - loss: 0.4227 - mean_squared_error: 0.4227\n",
      "Epoch 29/30\n",
      "1/1 [==============================] - 0s 30ms/step - loss: 0.4181 - mean_squared_error: 0.4181\n",
      "Epoch 30/30\n",
      "1/1 [==============================] - 0s 34ms/step - loss: 0.4138 - mean_squared_error: 0.4138\n"
     ]
    }
   ],
   "source": [
    "from sklearn.model_selection import train_test_split\n",
    "\n",
    "epochs = 30\n",
    "k = 10\n",
    "\n",
    "i = 0\n",
    "inner_size = 20\n",
    "labels = np.array(labels)\n",
    "\n",
    "X_train, X_test, y_train, y_test = train_test_split(data, labels, test_size=0.1)\n",
    "    # ae_model = model.RnnAutoEncoder(input_size=np.size(data, axis=1)).to(device)\n",
    "    # loss = nn.MSELoss()\n",
    "ae_model = tf.keras.Sequential([\n",
    "    tf.keras.layers.InputLayer(input_shape=(np.size(data, axis=1),)),\n",
    "    tf.keras.layers.Dense(128, activation='relu'),\n",
    "    tf.keras.layers.Dense(64, activation='relu'),\n",
    "    tf.keras.layers.Dense(32, activation='relu'),\n",
    "    tf.keras.layers.Dense(inner_size, activation='relu'),\n",
    "    tf.keras.layers.Dense(32, activation='relu'),\n",
    "    tf.keras.layers.Dense(64, activation='relu'),\n",
    "    tf.keras.layers.Dense(128, activation='relu'),\n",
    "    tf.keras.layers.Dense(np.size(data, axis=1))\n",
    "])\n",
    "X_train_raw = X_train\n",
    "X_train = X_train[y_train == 0]\n",
    "# optimizer = torch.optim.Adam(ae_model.parameters(), lr=0.001)\n",
    "\n",
    "ae_model.compile(optimizer='adam', loss='mse', metrics=['mean_squared_error'])\n",
    "\n",
    "# X_train, X_test = data[train_index], data[test_index]\n",
    "\n",
    "ae_model.fit(X_train, X_train, epochs=epochs, batch_size=np.size(data, axis=0))\n",
    "out = ae_model(X_test)\n",
    "\n",
    "# tf.compat.v1.initialize_all_variables().run(session=tf.compat.v1.Session())\n",
    "# test_loss, res = ae_model.evaluate(X_test, X_test, batch_size=np.size(data, axis=0))\n",
    "# X_pred = np.array(out.eval(session=tf.compat.v1.Session()))\n",
    "X_pred = ae_model(X_test)\n",
    "res = tf.math.reduce_sum(tf.math.pow(X_pred - X_test, 2), 1)\n",
    "\n",
    "\n",
    "    # res = train_model.autoencoder_test(X_test, X_test, ae_model, 1000)\n",
    "    # break"
   ]
  },
  {
   "cell_type": "code",
   "execution_count": 4,
   "metadata": {
    "collapsed": false
   },
   "outputs": [
    {
     "name": "stdout",
     "output_type": "stream",
     "text": [
      "0.9659854437267256\n"
     ]
    },
    {
     "data": {
      "image/png": "[encoded data removed]",
      "text/plain": [
       "<Figure size 640x480 with 1 Axes>"
      ]
     },
     "metadata": {},
     "output_type": "display_data"
    }
   ],
   "source": [
    "import sklearn.metrics as metrics\n",
    "\n",
    "res_sorted = tf.sort(res)\n",
    "res_cdf = 1. * np.arange(res.shape[0]) / ((res.shape[0]) - 1)\n",
    "point_color = [\"red\" if label == 1 else \"blue\" for label in y_test]\n",
    "point_size = [0.1 if label == 0 else 10 for label in y_test]\n",
    "# plt.hist(res, bins=200)\n",
    "# plt.scatter(res, range(res.size), s=point_size, c=point_color)\n",
    "\n",
    "fpr, tpr, _ = metrics.roc_curve(y_test, res)\n",
    "\n",
    "precision, recall, threshold = metrics.precision_recall_curve(y_test, res)\n",
    "\n",
    "# precision = precision[0:-3]\n",
    "#\n",
    "# recall = recall[0:-3]\n",
    "\n",
    "plt.plot(recall, precision)\n",
    "\n",
    "# print(precision, recall)\n",
    "\n",
    "print(metrics.auc(fpr, tpr))\n",
    "# print(metrics.auc(precision, recall))\n",
    "\n",
    "# print(metrics.f1_score(test_labels, res))\n",
    "\n",
    "# plt.scatter(res_sorted, range(res.size), s=point_size, c=point_color)\n",
    "# plt.xlim(0, 150)\n",
    "plt.ylabel(\"precision\")\n",
    "plt.xlabel(\"recall\")\n",
    "plt.title(\"vanilla ae\")\n",
    "plt.show()"
   ]
  },
  {
   "cell_type": "code",
   "execution_count": 5,
   "metadata": {},
   "outputs": [
    {
     "data": {
      "image/png": "[encoded data removed]",
      "text/plain": [
       "<Figure size 640x480 with 1 Axes>"
      ]
     },
     "metadata": {},
     "output_type": "display_data"
    }
   ],
   "source": [
    "plt.plot(fpr, tpr)\n",
    "plt.xlabel(\"false positive\")\n",
    "plt.ylabel(\"true positive\")\n",
    "plt.title(\"vanilla ae\")\n",
    "plt.show()"
   ]
  },
  {
   "cell_type": "code",
   "execution_count": 6,
   "metadata": {},
   "outputs": [],
   "source": [
    "exp_size = 1000\n",
    "exp_X = X_test[0:exp_size]"
   ]
  },
  {
   "cell_type": "code",
   "execution_count": 7,
   "metadata": {},
   "outputs": [
    {
     "name": "stdout",
     "output_type": "stream",
     "text": [
      "Epoch 1/30\n",
      "1/1 [==============================] - 3s 3s/step - loss: 0.9018 - mean_squared_error: 0.9018\n",
      "Epoch 2/30\n",
      "1/1 [==============================] - 0s 68ms/step - loss: 0.8970 - mean_squared_error: 0.8970\n",
      "Epoch 3/30\n",
      "1/1 [==============================] - 0s 64ms/step - loss: 0.8937 - mean_squared_error: 0.8937\n",
      "Epoch 4/30\n",
      "1/1 [==============================] - 0s 64ms/step - loss: 0.8890 - mean_squared_error: 0.8890\n",
      "Epoch 5/30\n",
      "1/1 [==============================] - 0s 62ms/step - loss: 0.8823 - mean_squared_error: 0.8823\n",
      "Epoch 6/30\n",
      "1/1 [==============================] - 0s 74ms/step - loss: 0.8731 - mean_squared_error: 0.8731\n",
      "Epoch 7/30\n",
      "1/1 [==============================] - 0s 38ms/step - loss: 0.8614 - mean_squared_error: 0.8614\n",
      "Epoch 8/30\n",
      "1/1 [==============================] - 0s 40ms/step - loss: 0.8474 - mean_squared_error: 0.8474\n",
      "Epoch 9/30\n",
      "1/1 [==============================] - 0s 39ms/step - loss: 0.8314 - mean_squared_error: 0.8314\n",
      "Epoch 10/30\n",
      "1/1 [==============================] - 0s 37ms/step - loss: 0.8145 - mean_squared_error: 0.8145\n",
      "Epoch 11/30\n",
      "1/1 [==============================] - 0s 43ms/step - loss: 0.7977 - mean_squared_error: 0.7977\n",
      "Epoch 12/30\n",
      "1/1 [==============================] - 0s 42ms/step - loss: 0.7803 - mean_squared_error: 0.7803\n",
      "Epoch 13/30\n",
      "1/1 [==============================] - 0s 42ms/step - loss: 0.7607 - mean_squared_error: 0.7607\n",
      "Epoch 14/30\n",
      "1/1 [==============================] - 0s 49ms/step - loss: 0.7396 - mean_squared_error: 0.7396\n",
      "Epoch 15/30\n",
      "1/1 [==============================] - 0s 42ms/step - loss: 0.7186 - mean_squared_error: 0.7186\n",
      "Epoch 16/30\n",
      "1/1 [==============================] - 0s 37ms/step - loss: 0.6984 - mean_squared_error: 0.6984\n",
      "Epoch 17/30\n",
      "1/1 [==============================] - 0s 36ms/step - loss: 0.6792 - mean_squared_error: 0.6792\n",
      "Epoch 18/30\n",
      "1/1 [==============================] - 0s 36ms/step - loss: 0.6606 - mean_squared_error: 0.6606\n",
      "Epoch 19/30\n",
      "1/1 [==============================] - 0s 37ms/step - loss: 0.6422 - mean_squared_error: 0.6422\n",
      "Epoch 20/30\n",
      "1/1 [==============================] - 0s 38ms/step - loss: 0.6248 - mean_squared_error: 0.6248\n",
      "Epoch 21/30\n",
      "1/1 [==============================] - 0s 33ms/step - loss: 0.6090 - mean_squared_error: 0.6090\n",
      "Epoch 22/30\n",
      "1/1 [==============================] - 0s 37ms/step - loss: 0.5943 - mean_squared_error: 0.5943\n",
      "Epoch 23/30\n",
      "1/1 [==============================] - 0s 80ms/step - loss: 0.5808 - mean_squared_error: 0.5808\n",
      "Epoch 24/30\n",
      "1/1 [==============================] - 0s 28ms/step - loss: 0.5682 - mean_squared_error: 0.5682\n",
      "Epoch 25/30\n",
      "1/1 [==============================] - 0s 29ms/step - loss: 0.5565 - mean_squared_error: 0.5565\n",
      "Epoch 26/30\n",
      "1/1 [==============================] - 0s 28ms/step - loss: 0.5463 - mean_squared_error: 0.5463\n",
      "Epoch 27/30\n",
      "1/1 [==============================] - 0s 28ms/step - loss: 0.5371 - mean_squared_error: 0.5371\n",
      "Epoch 28/30\n",
      "1/1 [==============================] - 0s 35ms/step - loss: 0.5282 - mean_squared_error: 0.5282\n",
      "Epoch 29/30\n",
      "1/1 [==============================] - 0s 29ms/step - loss: 0.5201 - mean_squared_error: 0.5201\n",
      "Epoch 30/30\n",
      "1/1 [==============================] - 0s 29ms/step - loss: 0.5132 - mean_squared_error: 0.5132\n"
     ]
    },
    {
     "data": {
      "text/plain": [
       "<keras.callbacks.History at 0x7fd2c609ece0>"
      ]
     },
     "execution_count": 7,
     "metadata": {},
     "output_type": "execute_result"
    }
   ],
   "source": [
    "class AE(tf.keras.Model):\n",
    "    def __init__(self, encoder: tf.keras.Model, decoder: tf.keras.Model, **kwargs) -> None:\n",
    "        super().__init__(**kwargs)\n",
    "        self.encoder = encoder\n",
    "        self.decoder = decoder\n",
    "\n",
    "    def call(self, x: tf.Tensor, **kwargs):\n",
    "        z = self.encoder(x)\n",
    "        x_hat = self.decoder(z)\n",
    "        return x_hat\n",
    "    \n",
    "temp_ae = AE(\n",
    "    tf.keras.Sequential([\n",
    "        tf.keras.layers.InputLayer(input_shape=(np.size(data, axis=1))),\n",
    "        tf.keras.layers.Dense(128, activation='relu'),\n",
    "        tf.keras.layers.Dense(64, activation='relu'),\n",
    "        tf.keras.layers.Dense(32, activation='relu'),\n",
    "        tf.keras.layers.Dense(inner_size, activation='relu'),\n",
    "    ]),\n",
    "    tf.keras.Sequential([\n",
    "        tf.keras.layers.InputLayer(input_shape=inner_size),\n",
    "        tf.keras.layers.Dense(32, activation='relu'),\n",
    "        tf.keras.layers.Dense(64, activation='relu'),\n",
    "        tf.keras.layers.Dense(128, activation='relu'),\n",
    "        tf.keras.layers.Dense(np.size(data, axis=1))\n",
    "    ])\n",
    ")\n",
    "\n",
    "temp_ae.compile(optimizer='adam', loss='mse', metrics=['mean_squared_error'])\n",
    "temp_ae.fit(X_train_raw, X_train_raw, epochs=epochs, batch_size=np.size(data, axis=0))"
   ]
  },
  {
   "cell_type": "code",
   "execution_count": 19,
   "metadata": {},
   "outputs": [
    {
     "ename": "TypeError",
     "evalue": "int() argument must be a string, a bytes-like object or a real number, not 'NoneType'",
     "output_type": "error",
     "traceback": [
      "\u001b[0;31m---------------------------------------------------------------------------\u001b[0m",
      "\u001b[0;31mTypeError\u001b[0m                                 Traceback (most recent call last)",
      "Cell \u001b[0;32mIn[19], line 35\u001b[0m\n\u001b[1;32m     20\u001b[0m     \u001b[39mreturn\u001b[39;00m np\u001b[39m.\u001b[39marray([[\u001b[39m1\u001b[39m\u001b[39m-\u001b[39mn, n] \u001b[39mfor\u001b[39;00m n \u001b[39min\u001b[39;00m res])\n\u001b[1;32m     22\u001b[0m \u001b[39m# explainer = CounterfactualRLTabular(\u001b[39;00m\n\u001b[1;32m     23\u001b[0m \u001b[39m#     predictor=predFunc,\u001b[39;00m\n\u001b[1;32m     24\u001b[0m \u001b[39m#     encoder=temp_ae.encoder,\u001b[39;00m\n\u001b[0;32m   (...)\u001b[0m\n\u001b[1;32m     32\u001b[0m \u001b[39m#     coeff_consistency=0.5\u001b[39;00m\n\u001b[1;32m     33\u001b[0m \u001b[39m# )\u001b[39;00m\n\u001b[0;32m---> 35\u001b[0m explainer \u001b[39m=\u001b[39m CounterfactualRL(\n\u001b[1;32m     36\u001b[0m     predictor\u001b[39m=\u001b[39;49mpredFunc,\n\u001b[1;32m     37\u001b[0m     encoder\u001b[39m=\u001b[39;49mtemp_ae\u001b[39m.\u001b[39;49mencoder,\n\u001b[1;32m     38\u001b[0m     decoder\u001b[39m=\u001b[39;49mtemp_ae\u001b[39m.\u001b[39;49mdecoder,\n\u001b[1;32m     39\u001b[0m     coeff_consistency\u001b[39m=\u001b[39;49m\u001b[39m0.5\u001b[39;49m,\n\u001b[1;32m     40\u001b[0m     coeff_sparsity\u001b[39m=\u001b[39;49m\u001b[39m0.5\u001b[39;49m\n\u001b[1;32m     41\u001b[0m )\n\u001b[1;32m     43\u001b[0m \u001b[39mprint\u001b[39m(X_train[\u001b[39m0\u001b[39m:\u001b[39m100\u001b[39m]\u001b[39m.\u001b[39mshape)\n",
      "File \u001b[0;32m~/miniconda3/envs/windTurbineExp/lib/python3.10/site-packages/alibi/explainers/cfrl_base.py:384\u001b[0m, in \u001b[0;36mCounterfactualRL.__init__\u001b[0;34m(self, predictor, encoder, decoder, coeff_sparsity, coeff_consistency, latent_dim, backend, seed, **kwargs)\u001b[0m\n\u001b[1;32m    381\u001b[0m \u001b[39mself\u001b[39m\u001b[39m.\u001b[39mbackend\u001b[39m.\u001b[39mset_seed(seed)\n\u001b[1;32m    383\u001b[0m \u001b[39m# Validate arguments.\u001b[39;00m\n\u001b[0;32m--> 384\u001b[0m \u001b[39mself\u001b[39m\u001b[39m.\u001b[39mparams \u001b[39m=\u001b[39m \u001b[39mself\u001b[39;49m\u001b[39m.\u001b[39;49m_validate_kwargs(predictor\u001b[39m=\u001b[39;49mpredictor,\n\u001b[1;32m    385\u001b[0m                                     encoder\u001b[39m=\u001b[39;49mencoder,\n\u001b[1;32m    386\u001b[0m                                     decoder\u001b[39m=\u001b[39;49mdecoder,\n\u001b[1;32m    387\u001b[0m                                     latent_dim\u001b[39m=\u001b[39;49mlatent_dim,\n\u001b[1;32m    388\u001b[0m                                     coeff_sparsity\u001b[39m=\u001b[39;49mcoeff_sparsity,\n\u001b[1;32m    389\u001b[0m                                     coeff_consistency\u001b[39m=\u001b[39;49mcoeff_consistency,\n\u001b[1;32m    390\u001b[0m                                     backend\u001b[39m=\u001b[39;49mbackend,\n\u001b[1;32m    391\u001b[0m                                     seed\u001b[39m=\u001b[39;49mseed,\n\u001b[1;32m    392\u001b[0m                                     \u001b[39m*\u001b[39;49m\u001b[39m*\u001b[39;49mkwargs)\n\u001b[1;32m    394\u001b[0m \u001b[39m# If pytorch backend, the if GPU available, send everything to GPU\u001b[39;00m\n\u001b[1;32m    395\u001b[0m \u001b[39mif\u001b[39;00m \u001b[39mself\u001b[39m\u001b[39m.\u001b[39mparams[\u001b[39m\"\u001b[39m\u001b[39mbackend\u001b[39m\u001b[39m\"\u001b[39m] \u001b[39m==\u001b[39m Framework\u001b[39m.\u001b[39mPYTORCH:\n",
      "File \u001b[0;32m~/miniconda3/envs/windTurbineExp/lib/python3.10/site-packages/alibi/explainers/cfrl_base.py:552\u001b[0m, in \u001b[0;36mCounterfactualRL._validate_kwargs\u001b[0;34m(self, predictor, encoder, decoder, latent_dim, coeff_sparsity, coeff_consistency, backend, seed, **kwargs)\u001b[0m\n\u001b[1;32m    550\u001b[0m \u001b[39mif\u001b[39;00m \u001b[39m\"\u001b[39m\u001b[39mactor\u001b[39m\u001b[39m\"\u001b[39m \u001b[39mnot\u001b[39;00m \u001b[39min\u001b[39;00m kwargs:\n\u001b[1;32m    551\u001b[0m     not_specified[\u001b[39m\"\u001b[39m\u001b[39mactor\u001b[39m\u001b[39m\"\u001b[39m] \u001b[39m=\u001b[39m \u001b[39mTrue\u001b[39;00m\n\u001b[0;32m--> 552\u001b[0m     params[\u001b[39m\"\u001b[39m\u001b[39mactor\u001b[39m\u001b[39m\"\u001b[39m] \u001b[39m=\u001b[39m \u001b[39mself\u001b[39;49m\u001b[39m.\u001b[39;49mbackend\u001b[39m.\u001b[39;49mget_actor(hidden_dim\u001b[39m=\u001b[39;49mparams[\u001b[39m\"\u001b[39;49m\u001b[39mactor_hidden_dim\u001b[39;49m\u001b[39m\"\u001b[39;49m],\n\u001b[1;32m    553\u001b[0m                                              output_dim\u001b[39m=\u001b[39;49mparams[\u001b[39m\"\u001b[39;49m\u001b[39mlatent_dim\u001b[39;49m\u001b[39m\"\u001b[39;49m])\n\u001b[1;32m    555\u001b[0m \u001b[39mif\u001b[39;00m \u001b[39m\"\u001b[39m\u001b[39mcritic\u001b[39m\u001b[39m\"\u001b[39m \u001b[39mnot\u001b[39;00m \u001b[39min\u001b[39;00m kwargs:\n\u001b[1;32m    556\u001b[0m     not_specified[\u001b[39m\"\u001b[39m\u001b[39mcritic\u001b[39m\u001b[39m\"\u001b[39m] \u001b[39m=\u001b[39m \u001b[39mTrue\u001b[39;00m\n",
      "File \u001b[0;32m~/miniconda3/envs/windTurbineExp/lib/python3.10/site-packages/alibi/explainers/backends/tensorflow/cfrl_base.py:148\u001b[0m, in \u001b[0;36mget_actor\u001b[0;34m(hidden_dim, output_dim)\u001b[0m\n\u001b[1;32m    133\u001b[0m \u001b[39mdef\u001b[39;00m \u001b[39mget_actor\u001b[39m(hidden_dim: \u001b[39mint\u001b[39m, output_dim: \u001b[39mint\u001b[39m) \u001b[39m-\u001b[39m\u001b[39m>\u001b[39m keras\u001b[39m.\u001b[39mlayers\u001b[39m.\u001b[39mLayer:\n\u001b[1;32m    134\u001b[0m \u001b[39m    \u001b[39m\u001b[39m\"\"\"\u001b[39;00m\n\u001b[1;32m    135\u001b[0m \u001b[39m    Constructs the actor network.\u001b[39;00m\n\u001b[1;32m    136\u001b[0m \n\u001b[0;32m   (...)\u001b[0m\n\u001b[1;32m    146\u001b[0m \u001b[39m    Actor network.\u001b[39;00m\n\u001b[1;32m    147\u001b[0m \u001b[39m    \"\"\"\u001b[39;00m\n\u001b[0;32m--> 148\u001b[0m     \u001b[39mreturn\u001b[39;00m Actor(hidden_dim\u001b[39m=\u001b[39;49mhidden_dim, output_dim\u001b[39m=\u001b[39;49moutput_dim)\n",
      "File \u001b[0;32m~/miniconda3/envs/windTurbineExp/lib/python3.10/site-packages/alibi/models/tensorflow/actor_critic.py:34\u001b[0m, in \u001b[0;36mActor.__init__\u001b[0;34m(self, hidden_dim, output_dim, **kwargs)\u001b[0m\n\u001b[1;32m     32\u001b[0m \u001b[39mself\u001b[39m\u001b[39m.\u001b[39mfc2 \u001b[39m=\u001b[39m keras\u001b[39m.\u001b[39mlayers\u001b[39m.\u001b[39mDense(hidden_dim)\n\u001b[1;32m     33\u001b[0m \u001b[39mself\u001b[39m\u001b[39m.\u001b[39mln2 \u001b[39m=\u001b[39m keras\u001b[39m.\u001b[39mlayers\u001b[39m.\u001b[39mLayerNormalization()\n\u001b[0;32m---> 34\u001b[0m \u001b[39mself\u001b[39m\u001b[39m.\u001b[39mfc3 \u001b[39m=\u001b[39m keras\u001b[39m.\u001b[39;49mlayers\u001b[39m.\u001b[39;49mDense(output_dim)\n",
      "File \u001b[0;32m~/miniconda3/envs/windTurbineExp/lib/python3.10/site-packages/keras/dtensor/utils.py:96\u001b[0m, in \u001b[0;36mallow_initializer_layout.<locals>._wrap_function\u001b[0;34m(layer_instance, *args, **kwargs)\u001b[0m\n\u001b[1;32m     93\u001b[0m         \u001b[39mif\u001b[39;00m layout:\n\u001b[1;32m     94\u001b[0m             layout_args[variable_name \u001b[39m+\u001b[39m \u001b[39m\"\u001b[39m\u001b[39m_layout\u001b[39m\u001b[39m\"\u001b[39m] \u001b[39m=\u001b[39m layout\n\u001b[0;32m---> 96\u001b[0m init_method(layer_instance, \u001b[39m*\u001b[39;49margs, \u001b[39m*\u001b[39;49m\u001b[39m*\u001b[39;49mkwargs)\n\u001b[1;32m     98\u001b[0m \u001b[39m# Inject the layout parameter after the invocation of __init__()\u001b[39;00m\n\u001b[1;32m     99\u001b[0m \u001b[39mfor\u001b[39;00m layout_param_name, layout \u001b[39min\u001b[39;00m layout_args\u001b[39m.\u001b[39mitems():\n",
      "File \u001b[0;32m~/miniconda3/envs/windTurbineExp/lib/python3.10/site-packages/keras/layers/core/dense.py:119\u001b[0m, in \u001b[0;36mDense.__init__\u001b[0;34m(self, units, activation, use_bias, kernel_initializer, bias_initializer, kernel_regularizer, bias_regularizer, activity_regularizer, kernel_constraint, bias_constraint, **kwargs)\u001b[0m\n\u001b[1;32m    102\u001b[0m \u001b[39m@utils\u001b[39m\u001b[39m.\u001b[39mallow_initializer_layout\n\u001b[1;32m    103\u001b[0m \u001b[39mdef\u001b[39;00m \u001b[39m__init__\u001b[39m(\n\u001b[1;32m    104\u001b[0m     \u001b[39mself\u001b[39m,\n\u001b[0;32m   (...)\u001b[0m\n\u001b[1;32m    115\u001b[0m     \u001b[39m*\u001b[39m\u001b[39m*\u001b[39mkwargs,\n\u001b[1;32m    116\u001b[0m ):\n\u001b[1;32m    117\u001b[0m     \u001b[39msuper\u001b[39m()\u001b[39m.\u001b[39m\u001b[39m__init__\u001b[39m(activity_regularizer\u001b[39m=\u001b[39mactivity_regularizer, \u001b[39m*\u001b[39m\u001b[39m*\u001b[39mkwargs)\n\u001b[0;32m--> 119\u001b[0m     \u001b[39mself\u001b[39m\u001b[39m.\u001b[39munits \u001b[39m=\u001b[39m \u001b[39mint\u001b[39;49m(units) \u001b[39mif\u001b[39;00m \u001b[39mnot\u001b[39;00m \u001b[39misinstance\u001b[39m(units, \u001b[39mint\u001b[39m) \u001b[39melse\u001b[39;00m units\n\u001b[1;32m    120\u001b[0m     \u001b[39mif\u001b[39;00m \u001b[39mself\u001b[39m\u001b[39m.\u001b[39munits \u001b[39m<\u001b[39m \u001b[39m0\u001b[39m:\n\u001b[1;32m    121\u001b[0m         \u001b[39mraise\u001b[39;00m \u001b[39mValueError\u001b[39;00m(\n\u001b[1;32m    122\u001b[0m             \u001b[39m\"\u001b[39m\u001b[39mReceived an invalid value for `units`, expected \u001b[39m\u001b[39m\"\u001b[39m\n\u001b[1;32m    123\u001b[0m             \u001b[39mf\u001b[39m\u001b[39m\"\u001b[39m\u001b[39ma positive integer. Received: units=\u001b[39m\u001b[39m{\u001b[39;00munits\u001b[39m}\u001b[39;00m\u001b[39m\"\u001b[39m\n\u001b[1;32m    124\u001b[0m         )\n",
      "\u001b[0;31mTypeError\u001b[0m: int() argument must be a string, a bytes-like object or a real number, not 'NoneType'"
     ]
    }
   ],
   "source": [
    "from alibi.explainers.cfrl_tabular import CounterfactualRLTabular, CounterfactualRL\n",
    "from alibi.explainers.backends.cfrl_tabular import get_he_preprocessor\n",
    "\n",
    "raw_data = data_load.load_turbine_data_without_time(DATA_PATH)\n",
    "feature_names = raw_data.columns.tolist()\n",
    "\n",
    "ae_preprocessor, ae_inv_preprocessor = get_he_preprocessor(X=X_train_raw, feature_names=feature_names, category_map={})\n",
    "\n",
    "# ae = model.AutoEncoder(input_size=np.size(data, axis=1)).to(device)\n",
    "\n",
    "def predFunc(x):\n",
    "    # x = tf.cast(x, tf.float32)\n",
    "    # distance = train_model.autoencoder_test(x, x, ae_model, len(x))\n",
    "    distance = tf.reduce_sum(tf.pow(ae_model(x) - x, 2), 1)\n",
    "    threshold = tf.constant(65, dtype=tf.float32)\n",
    "    res = 1 / (1 + tf.math.exp(-(distance-threshold)))\n",
    "    # res = tf.reshape(res, (res.shape[0], 1))\n",
    "    # print(tf.concat([1-res, res], 1).shape)\n",
    "    # return tf.concat([1-res, res], 1)\n",
    "    return np.array([[1-n, n] for n in res])\n",
    "\n",
    "explainer = CounterfactualRLTabular(\n",
    "    predictor=predFunc,\n",
    "    encoder=temp_ae.encoder,\n",
    "    decoder=temp_ae.decoder,\n",
    "    feature_names=feature_names,\n",
    "    category_map={},\n",
    "    latent_dim=inner_size,\n",
    "    encoder_preprocessor=ae_preprocessor,\n",
    "    decoder_inv_preprocessor=ae_inv_preprocessor,\n",
    "    coeff_sparsity=0.5,\n",
    "    coeff_consistency=0.5\n",
    ")\n",
    "\n",
    "# explainer = CounterfactualRL(\n",
    "#     predictor=predFunc,\n",
    "#     encoder=temp_ae.encoder,\n",
    "#     decoder=temp_ae.decoder,\n",
    "#     coeff_consistency=0.5,\n",
    "#     coeff_sparsity=0.5\n",
    "# )\n",
    "\n",
    "print(X_train[0:100].shape)\n"
   ]
  },
  {
   "cell_type": "code",
   "execution_count": 16,
   "metadata": {},
   "outputs": [
    {
     "name": "stderr",
     "output_type": "stream",
     "text": [
      "  0%|          | 0/100000 [00:00<?, ?it/s]\n"
     ]
    },
    {
     "ename": "IndexError",
     "evalue": "tuple index out of range",
     "output_type": "error",
     "traceback": [
      "\u001b[0;31m---------------------------------------------------------------------------\u001b[0m",
      "\u001b[0;31mIndexError\u001b[0m                                Traceback (most recent call last)",
      "Cell \u001b[0;32mIn[16], line 1\u001b[0m\n\u001b[0;32m----> 1\u001b[0m explainer \u001b[39m=\u001b[39m explainer\u001b[39m.\u001b[39;49mfit(X\u001b[39m=\u001b[39;49mX_train)\n",
      "File \u001b[0;32m~/miniconda3/envs/windTurbineExp/lib/python3.10/site-packages/alibi/explainers/cfrl_tabular.py:279\u001b[0m, in \u001b[0;36mCounterfactualRLTabular.fit\u001b[0;34m(self, X)\u001b[0m\n\u001b[1;32m    276\u001b[0m \u001b[39mself\u001b[39m\u001b[39m.\u001b[39m_validate_input(X)\n\u001b[1;32m    278\u001b[0m \u001b[39m# call base class fit\u001b[39;00m\n\u001b[0;32m--> 279\u001b[0m \u001b[39mreturn\u001b[39;00m \u001b[39msuper\u001b[39;49m()\u001b[39m.\u001b[39;49mfit(X)\n",
      "File \u001b[0;32m~/miniconda3/envs/windTurbineExp/lib/python3.10/site-packages/alibi/explainers/cfrl_base.py:681\u001b[0m, in \u001b[0;36mCounterfactualRL.fit\u001b[0;34m(self, X)\u001b[0m\n\u001b[1;32m    677\u001b[0m X_cf_tilde \u001b[39m=\u001b[39m \u001b[39mself\u001b[39m\u001b[39m.\u001b[39mbackend\u001b[39m.\u001b[39mdecode(Z\u001b[39m=\u001b[39mdata[\u001b[39m\"\u001b[39m\u001b[39mZ_cf_tilde\u001b[39m\u001b[39m\"\u001b[39m], \u001b[39m*\u001b[39m\u001b[39m*\u001b[39m\u001b[39mself\u001b[39m\u001b[39m.\u001b[39mparams)\n\u001b[1;32m    679\u001b[0m \u001b[39mfor\u001b[39;00m pp_func \u001b[39min\u001b[39;00m \u001b[39mself\u001b[39m\u001b[39m.\u001b[39mparams[\u001b[39m\"\u001b[39m\u001b[39mpostprocessing_funcs\u001b[39m\u001b[39m\"\u001b[39m]:\n\u001b[1;32m    680\u001b[0m     \u001b[39m# Post-process noised counterfactual.\u001b[39;00m\n\u001b[0;32m--> 681\u001b[0m     X_cf_tilde \u001b[39m=\u001b[39m pp_func(\u001b[39mself\u001b[39;49m\u001b[39m.\u001b[39;49mbackend\u001b[39m.\u001b[39;49mto_numpy(X_cf_tilde),\n\u001b[1;32m    682\u001b[0m                          \u001b[39mself\u001b[39;49m\u001b[39m.\u001b[39;49mbackend\u001b[39m.\u001b[39;49mto_numpy(data[\u001b[39m\"\u001b[39;49m\u001b[39mX\u001b[39;49m\u001b[39m\"\u001b[39;49m]),\n\u001b[1;32m    683\u001b[0m                          \u001b[39mself\u001b[39;49m\u001b[39m.\u001b[39;49mbackend\u001b[39m.\u001b[39;49mto_numpy(data[\u001b[39m\"\u001b[39;49m\u001b[39mC\u001b[39;49m\u001b[39m\"\u001b[39;49m]))\n\u001b[1;32m    684\u001b[0m data\u001b[39m.\u001b[39mupdate({\u001b[39m\"\u001b[39m\u001b[39mX_cf_tilde\u001b[39m\u001b[39m\"\u001b[39m: X_cf_tilde})\n\u001b[1;32m    686\u001b[0m \u001b[39m# Compute model's prediction on the noised counterfactual\u001b[39;00m\n",
      "File \u001b[0;32m~/miniconda3/envs/windTurbineExp/lib/python3.10/site-packages/alibi/explainers/cfrl_tabular.py:72\u001b[0m, in \u001b[0;36mSampleTabularPostprocessing.__call__\u001b[0;34m(self, X_cf, X, C)\u001b[0m\n\u001b[1;32m     54\u001b[0m \u001b[39mdef\u001b[39;00m \u001b[39m__call__\u001b[39m(\u001b[39mself\u001b[39m, X_cf: List[np\u001b[39m.\u001b[39mndarray], X: np\u001b[39m.\u001b[39mndarray, C: Optional[np\u001b[39m.\u001b[39mndarray]) \u001b[39m-\u001b[39m\u001b[39m>\u001b[39m List[np\u001b[39m.\u001b[39mndarray]:\n\u001b[1;32m     55\u001b[0m \u001b[39m    \u001b[39m\u001b[39m\"\"\"\u001b[39;00m\n\u001b[1;32m     56\u001b[0m \u001b[39m    Performs counterfactual conditional sampling according to the conditional vector and the original input.\u001b[39;00m\n\u001b[1;32m     57\u001b[0m \n\u001b[0;32m   (...)\u001b[0m\n\u001b[1;32m     70\u001b[0m \u001b[39m    Conditional sampled counterfactual instance.\u001b[39;00m\n\u001b[1;32m     71\u001b[0m \u001b[39m    \"\"\"\u001b[39;00m\n\u001b[0;32m---> 72\u001b[0m     \u001b[39mreturn\u001b[39;00m sample(X_hat_split\u001b[39m=\u001b[39;49mX_cf,\n\u001b[1;32m     73\u001b[0m                   X_ohe\u001b[39m=\u001b[39;49mX,\n\u001b[1;32m     74\u001b[0m                   C\u001b[39m=\u001b[39;49mC,\n\u001b[1;32m     75\u001b[0m                   stats\u001b[39m=\u001b[39;49m\u001b[39mself\u001b[39;49m\u001b[39m.\u001b[39;49mstats,\n\u001b[1;32m     76\u001b[0m                   category_map\u001b[39m=\u001b[39;49m\u001b[39mself\u001b[39;49m\u001b[39m.\u001b[39;49mcategory_map)\n",
      "File \u001b[0;32m~/miniconda3/envs/windTurbineExp/lib/python3.10/site-packages/alibi/explainers/backends/cfrl_tabular.py:412\u001b[0m, in \u001b[0;36msample\u001b[0;34m(X_hat_split, X_ohe, C, category_map, stats)\u001b[0m\n\u001b[1;32m    408\u001b[0m num_feat, cat_feat \u001b[39m=\u001b[39m \u001b[39mlen\u001b[39m(X_ohe_num_split), \u001b[39mlen\u001b[39m(X_ohe_cat_split)\n\u001b[1;32m    410\u001b[0m \u001b[39mif\u001b[39;00m num_feat \u001b[39m>\u001b[39m \u001b[39m0\u001b[39m:\n\u001b[1;32m    411\u001b[0m     \u001b[39m# Sample numerical columns\u001b[39;00m\n\u001b[0;32m--> 412\u001b[0m     X_ohe_hat_split \u001b[39m+\u001b[39m\u001b[39m=\u001b[39m sample_numerical(X_hat_num_split\u001b[39m=\u001b[39;49mX_hat_split[:num_feat],\n\u001b[1;32m    413\u001b[0m                                         X_ohe_num_split\u001b[39m=\u001b[39;49mX_ohe_num_split,\n\u001b[1;32m    414\u001b[0m                                         C_num_split\u001b[39m=\u001b[39;49mC_num_split,\n\u001b[1;32m    415\u001b[0m                                         stats\u001b[39m=\u001b[39;49mstats)\n\u001b[1;32m    417\u001b[0m \u001b[39mif\u001b[39;00m cat_feat \u001b[39m>\u001b[39m \u001b[39m0\u001b[39m:\n\u001b[1;32m    418\u001b[0m     \u001b[39m# Sample categorical columns\u001b[39;00m\n\u001b[1;32m    419\u001b[0m     X_ohe_hat_split \u001b[39m+\u001b[39m\u001b[39m=\u001b[39m sample_categorical(X_hat_cat_split\u001b[39m=\u001b[39mX_hat_split[\u001b[39m-\u001b[39mcat_feat:],\n\u001b[1;32m    420\u001b[0m                                           C_cat_split\u001b[39m=\u001b[39mC_cat_split)\n",
      "File \u001b[0;32m~/miniconda3/envs/windTurbineExp/lib/python3.10/site-packages/alibi/explainers/backends/cfrl_tabular.py:316\u001b[0m, in \u001b[0;36msample_numerical\u001b[0;34m(X_hat_num_split, X_ohe_num_split, C_num_split, stats)\u001b[0m\n\u001b[1;32m    286\u001b[0m \u001b[39mdef\u001b[39;00m \u001b[39msample_numerical\u001b[39m(X_hat_num_split: List[np\u001b[39m.\u001b[39mndarray],\n\u001b[1;32m    287\u001b[0m                      X_ohe_num_split: List[np\u001b[39m.\u001b[39mndarray],\n\u001b[1;32m    288\u001b[0m                      C_num_split: Optional[List[np\u001b[39m.\u001b[39mndarray]],\n\u001b[1;32m    289\u001b[0m                      stats: Dict[\u001b[39mint\u001b[39m, Dict[\u001b[39mstr\u001b[39m, \u001b[39mfloat\u001b[39m]]) \u001b[39m-\u001b[39m\u001b[39m>\u001b[39m List[np\u001b[39m.\u001b[39mndarray]:\n\u001b[1;32m    290\u001b[0m \u001b[39m    \u001b[39m\u001b[39m\"\"\"\u001b[39;00m\n\u001b[1;32m    291\u001b[0m \u001b[39m    Samples numerical features according to the conditional vector. This method clips the values between the\u001b[39;00m\n\u001b[1;32m    292\u001b[0m \u001b[39m    desired ranges specified in the conditional vector, and ensures that the values are between the minimum and\u001b[39;00m\n\u001b[0;32m   (...)\u001b[0m\n\u001b[1;32m    314\u001b[0m \u001b[39m        List of clamped input vectors according to the conditional vectors and the dictionary of statistics.\u001b[39;00m\n\u001b[1;32m    315\u001b[0m \u001b[39m    \"\"\"\u001b[39;00m\n\u001b[0;32m--> 316\u001b[0m     num_cols \u001b[39m=\u001b[39m X_hat_num_split[\u001b[39m0\u001b[39;49m]\u001b[39m.\u001b[39;49mshape[\u001b[39m1\u001b[39;49m]  \u001b[39m# number of numerical columns\u001b[39;00m\n\u001b[1;32m    317\u001b[0m     sorted_cols \u001b[39m=\u001b[39m \u001b[39msorted\u001b[39m(stats\u001b[39m.\u001b[39mkeys())  \u001b[39m# ensure that the column ids are sorted\u001b[39;00m\n\u001b[1;32m    319\u001b[0m     \u001b[39mfor\u001b[39;00m i, col_id \u001b[39min\u001b[39;00m \u001b[39mzip\u001b[39m(\u001b[39mrange\u001b[39m(num_cols), sorted_cols):\n\u001b[1;32m    320\u001b[0m         \u001b[39m# Extract the minimum and the maximum value for the current column from the training set.\u001b[39;00m\n",
      "\u001b[0;31mIndexError\u001b[0m: tuple index out of range"
     ]
    }
   ],
   "source": [
    "explainer = explainer.fit(X=X_train[0:100])"
   ]
  }
 ],
 "metadata": {
  "kernelspec": {
   "display_name": "Python 3",
   "language": "python",
   "name": "python3"
  },
  "language_info": {
   "codemirror_mode": {
    "name": "ipython",
    "version": 3
   },
   "file_extension": ".py",
   "mimetype": "text/x-python",
   "name": "python",
   "nbconvert_exporter": "python",
   "pygments_lexer": "ipython3",
   "version": "3.10.12"
  }
 },
 "nbformat": 4,
 "nbformat_minor": 0
}
