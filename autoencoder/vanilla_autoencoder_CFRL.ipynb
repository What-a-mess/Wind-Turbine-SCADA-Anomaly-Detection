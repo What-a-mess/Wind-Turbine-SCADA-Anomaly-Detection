{
 "cells": [
  {
   "cell_type": "code",
   "execution_count": 1,
   "metadata": {
    "ExecuteTime": {
     "end_time": "2023-08-30T00:11:38.193245700Z",
     "start_time": "2023-08-30T00:11:33.731374800Z"
    }
   },
   "outputs": [
    {
     "name": "stdout",
     "output_type": "stream",
     "text": []
    }
   ],
   "source": [
    "%%bash\n",
    "echo $PYTHONPATH"
   ]
  },
  {
   "cell_type": "code",
   "execution_count": 2,
   "metadata": {
    "ExecuteTime": {
     "end_time": "2023-08-30T00:11:41.244621300Z",
     "start_time": "2023-08-30T00:11:38.169213800Z"
    }
   },
   "outputs": [],
   "source": [
    "import numpy as np\n",
    "import pandas as pd\n",
    "import torch\n",
    "from torch import nn\n",
    "from sklearn.impute import KNNImputer\n",
    "import matplotlib.pyplot as plt\n",
    "\n",
    "import data_load\n",
    "import data_process\n",
    "import model\n",
    "import train_model\n",
    "device = torch.device(\"cuda\" if torch.cuda.is_available() else \"cpu\")"
   ]
  },
  {
   "cell_type": "code",
   "execution_count": 3,
   "metadata": {
    "ExecuteTime": {
     "end_time": "2023-08-30T00:12:09.409067600Z",
     "start_time": "2023-08-30T00:11:41.246619500Z"
    }
   },
   "outputs": [
    {
     "name": "stdout",
     "output_type": "stream",
     "text": [
      "(26064, 299)\n"
     ]
    }
   ],
   "source": [
    "from sklearn import preprocessing\n",
    "\n",
    "DATA_PATH = \"../data/Turbine_Data_Penmanshiel_11_2021-01-01_-_2021-07-01_1051.csv\"\n",
    "LOGS_PATH = \"../data/Status_Penmanshiel_11_2021-01-01_-_2021-07-01_1051.csv\"\n",
    "\n",
    "data = data_load.load_turbine_data_without_time(DATA_PATH)\n",
    "logs = data_load.load_turbine_logs_with_endtime(LOGS_PATH)\n",
    "labels = data_load.get_data_label(data_load.load_turbine_data(DATA_PATH), logs)\n",
    "# data_cols = data.columns[1:2]\n",
    "# data = data[data_cols]\n",
    "scaler = preprocessing.StandardScaler()\n",
    "data_imputer = KNNImputer(n_neighbors=10)\n",
    "data = data_process.impute_data(data)\n",
    "data = data_process.standardize_data(data, scaler=scaler)\n",
    "print(data.shape)\n",
    "data = np.array(data, dtype='float32')"
   ]
  },
  {
   "cell_type": "code",
   "execution_count": 4,
   "metadata": {
    "ExecuteTime": {
     "end_time": "2023-08-30T00:12:15.855073Z",
     "start_time": "2023-08-30T00:12:09.414069400Z"
    }
   },
   "outputs": [
    {
     "name": "stdout",
     "output_type": "stream",
     "text": [
      "\n",
      "=====epoch 0/30=====\n",
      "loss: 0.773837  [21870/21870]\n",
      "\n",
      "=====epoch 1/30=====\n",
      "loss: 0.772384  [21870/21870]\n",
      "\n",
      "=====epoch 2/30=====\n",
      "loss: 0.771168  [21870/21870]\n",
      "\n",
      "=====epoch 3/30=====\n",
      "loss: 0.769958  [21870/21870]\n",
      "\n",
      "=====epoch 4/30=====\n",
      "loss: 0.768503  [21870/21870]\n",
      "\n",
      "=====epoch 5/30=====\n",
      "loss: 0.766519  [21870/21870]\n",
      "\n",
      "=====epoch 6/30=====\n",
      "loss: 0.763750  [21870/21870]\n",
      "\n",
      "=====epoch 7/30=====\n",
      "loss: 0.759877  [21870/21870]\n",
      "\n",
      "=====epoch 8/30=====\n",
      "loss: 0.754406  [21870/21870]\n",
      "\n",
      "=====epoch 9/30=====\n",
      "loss: 0.746654  [21870/21870]\n",
      "\n",
      "=====epoch 10/30=====\n",
      "loss: 0.735332  [21870/21870]\n",
      "\n",
      "=====epoch 11/30=====\n",
      "loss: 0.719156  [21870/21870]\n",
      "\n",
      "=====epoch 12/30=====\n",
      "loss: 0.697033  [21870/21870]\n",
      "\n",
      "=====epoch 13/30=====\n",
      "loss: 0.667785  [21870/21870]\n",
      "\n",
      "=====epoch 14/30=====\n",
      "loss: 0.630869  [21870/21870]\n",
      "\n",
      "=====epoch 15/30=====\n",
      "loss: 0.587864  [21870/21870]\n",
      "\n",
      "=====epoch 16/30=====\n",
      "loss: 0.545879  [21870/21870]\n",
      "\n",
      "=====epoch 17/30=====\n",
      "loss: 0.521312  [21870/21870]\n",
      "\n",
      "=====epoch 18/30=====\n",
      "loss: 0.518565  [21870/21870]\n",
      "\n",
      "=====epoch 19/30=====\n",
      "loss: 0.503203  [21870/21870]\n",
      "\n",
      "=====epoch 20/30=====\n",
      "loss: 0.471905  [21870/21870]\n",
      "\n",
      "=====epoch 21/30=====\n",
      "loss: 0.446505  [21870/21870]\n",
      "\n",
      "=====epoch 22/30=====\n",
      "loss: 0.436602  [21870/21870]\n",
      "\n",
      "=====epoch 23/30=====\n",
      "loss: 0.433604  [21870/21870]\n",
      "\n",
      "=====epoch 24/30=====\n",
      "loss: 0.427910  [21870/21870]\n",
      "\n",
      "=====epoch 25/30=====\n",
      "loss: 0.420303  [21870/21870]\n",
      "\n",
      "=====epoch 26/30=====\n",
      "loss: 0.414382  [21870/21870]\n",
      "\n",
      "=====epoch 27/30=====\n",
      "loss: 0.412616  [21870/21870]\n",
      "\n",
      "=====epoch 28/30=====\n",
      "loss: 0.412294  [21870/21870]\n",
      "\n",
      "=====epoch 29/30=====\n",
      "loss: 0.410591  [21870/21870]\n"
     ]
    }
   ],
   "source": [
    "from sklearn.model_selection import train_test_split\n",
    "\n",
    "epochs = 30\n",
    "k = 10\n",
    "\n",
    "i = 0\n",
    "labels = np.array(labels)\n",
    "\n",
    "X_train, X_test, y_train, y_test = train_test_split(data, labels, test_size=0.1)\n",
    "# for train, test in kf.split(data):\n",
    "#     ae_model = model.AutoEncoder(input_size=np.size(data, axis=1)).to(device)\n",
    "#     loss = nn.MSELoss()\n",
    "#     # optimizer = torch.optim.SGD(ae_model.parameters(), lr=0.001)\n",
    "#     optimizer = torch.optim.Adam(ae_model.parameters(), lr=0.0015)\n",
    "#     train_labels = labels[train]\n",
    "#     test_labels = labels[test]\n",
    "#     X_train, X_test = data[train][train_labels==0], data[test]\n",
    "#     for epoch in range(epochs):\n",
    "#         print(f\"\\n=====epoch {epoch}/{epochs}=====\")\n",
    "#         train_model.train(data_x=X_train, data_y=X_train, model=ae_model, loss_fn=loss, optimizer=optimizer,\n",
    "#                           batch_size=30000)\n",
    "#\n",
    "#     res = train_model.autoencoder_test(X_test, X_test, ae_model, 1000)\n",
    "#     i += 1\n",
    "#     if i == 1:\n",
    "#         break\n",
    "X_train_raw = X_train\n",
    "X_train = X_train[y_train == 0]\n",
    "\n",
    "ae_model = model.AutoEncoder(input_size=np.size(data, axis=1)).to(device)\n",
    "loss = nn.MSELoss()\n",
    "# optimizer = torch.optim.SGD(ae_model.parameters(), lr=0.001)\n",
    "optimizer = torch.optim.Adam(ae_model.parameters(), lr=0.0015)\n",
    "\n",
    "for epoch in range(epochs):\n",
    "    print(f\"\\n=====epoch {epoch}/{epochs}=====\")\n",
    "    train_model.train(data_x=X_train, data_y=X_train, model=ae_model, loss_fn=loss, optimizer=optimizer,\n",
    "                      batch_size=30000)\n",
    "\n",
    "res = train_model.autoencoder_test(X_test, X_test, ae_model, 1000)"
   ]
  },
  {
   "cell_type": "code",
   "execution_count": 5,
   "metadata": {
    "ExecuteTime": {
     "end_time": "2023-08-30T00:12:16.047098Z",
     "start_time": "2023-08-30T00:12:15.859073300Z"
    }
   },
   "outputs": [
    {
     "name": "stdout",
     "output_type": "stream",
     "text": [
      "0.9382841966656995\n"
     ]
    },
    {
     "data": {
      "text/plain": "<Figure size 640x480 with 1 Axes>",
      "image/png": "[encoded data removed]"
     },
     "metadata": {},
     "output_type": "display_data"
    }
   ],
   "source": [
    "import sklearn.metrics as metrics\n",
    "\n",
    "res_sorted = np.sort(res)\n",
    "res_cdf = 1. * np.arange(len(res)) / (len(res) - 1)\n",
    "point_color = [\"red\" if label == 1 else \"blue\" for label in y_test]\n",
    "point_size = [0.1 if label == 0 else 10 for label in y_test]\n",
    "# plt.hist(res, bins=200)\n",
    "# plt.scatter(res, range(res.size), s=point_size, c=point_color)\n",
    "\n",
    "fpr, tpr, _ = metrics.roc_curve(y_test, res)\n",
    "\n",
    "precision, recall, threshold = metrics.precision_recall_curve(y_test, res)\n",
    "\n",
    "# precision = precision[0:-3]\n",
    "#\n",
    "# recall = recall[0:-3]\n",
    "\n",
    "plt.plot(recall, precision)\n",
    "\n",
    "# print(precision, recall)\n",
    "\n",
    "print(metrics.auc(fpr, tpr))\n",
    "# print(metrics.auc(precision, recall))\n",
    "\n",
    "# print(metrics.f1_score(test_labels, res))\n",
    "\n",
    "# plt.scatter(res_sorted, range(res.size), s=point_size, c=point_color)\n",
    "# plt.xlim(0, 150)\n",
    "plt.ylabel(\"precision\")\n",
    "plt.xlabel(\"recall\")\n",
    "plt.title(\"vanilla ae\")\n",
    "plt.show()"
   ]
  },
  {
   "cell_type": "code",
   "execution_count": 6,
   "metadata": {
    "ExecuteTime": {
     "end_time": "2023-08-30T00:12:16.204597900Z",
     "start_time": "2023-08-30T00:12:16.048096900Z"
    }
   },
   "outputs": [
    {
     "data": {
      "text/plain": "<Figure size 640x480 with 1 Axes>",
      "image/png": "[encoded data removed]"
     },
     "metadata": {},
     "output_type": "display_data"
    }
   ],
   "source": [
    "plt.plot(fpr, tpr)\n",
    "plt.xlabel(\"false positive\")\n",
    "plt.ylabel(\"true positive\")\n",
    "plt.title(\"vanilla ae\")\n",
    "plt.show()"
   ]
  },
  {
   "cell_type": "code",
   "execution_count": 7,
   "metadata": {
    "ExecuteTime": {
     "end_time": "2023-08-30T00:12:59.784005600Z",
     "start_time": "2023-08-30T00:12:54.114207700Z"
    }
   },
   "outputs": [
    {
     "name": "stderr",
     "output_type": "stream",
     "text": [
      "C:\\Users\\sxf84\\.conda\\envs\\windTurbineExp\\lib\\site-packages\\shap\\utils\\_clustering.py:35: NumbaDeprecationWarning: \u001B[1mThe 'nopython' keyword argument was not supplied to the 'numba.jit' decorator. The implicit default value for this argument is currently False, but it will be changed to True in Numba 0.59.0. See https://numba.readthedocs.io/en/stable/reference/deprecation.html#deprecation-of-object-mode-fall-back-behaviour-when-using-jit for details.\u001B[0m\n",
      "  def _pt_shuffle_rec(i, indexes, index_mask, partition_tree, M, pos):\n",
      "C:\\Users\\sxf84\\.conda\\envs\\windTurbineExp\\lib\\site-packages\\shap\\utils\\_clustering.py:54: NumbaDeprecationWarning: \u001B[1mThe 'nopython' keyword argument was not supplied to the 'numba.jit' decorator. The implicit default value for this argument is currently False, but it will be changed to True in Numba 0.59.0. See https://numba.readthedocs.io/en/stable/reference/deprecation.html#deprecation-of-object-mode-fall-back-behaviour-when-using-jit for details.\u001B[0m\n",
      "  def delta_minimization_order(all_masks, max_swap_size=100, num_passes=2):\n",
      "C:\\Users\\sxf84\\.conda\\envs\\windTurbineExp\\lib\\site-packages\\shap\\utils\\_clustering.py:63: NumbaDeprecationWarning: \u001B[1mThe 'nopython' keyword argument was not supplied to the 'numba.jit' decorator. The implicit default value for this argument is currently False, but it will be changed to True in Numba 0.59.0. See https://numba.readthedocs.io/en/stable/reference/deprecation.html#deprecation-of-object-mode-fall-back-behaviour-when-using-jit for details.\u001B[0m\n",
      "  def _reverse_window(order, start, length):\n",
      "C:\\Users\\sxf84\\.conda\\envs\\windTurbineExp\\lib\\site-packages\\shap\\utils\\_clustering.py:69: NumbaDeprecationWarning: \u001B[1mThe 'nopython' keyword argument was not supplied to the 'numba.jit' decorator. The implicit default value for this argument is currently False, but it will be changed to True in Numba 0.59.0. See https://numba.readthedocs.io/en/stable/reference/deprecation.html#deprecation-of-object-mode-fall-back-behaviour-when-using-jit for details.\u001B[0m\n",
      "  def _reverse_window_score_gain(masks, order, start, length):\n",
      "C:\\Users\\sxf84\\.conda\\envs\\windTurbineExp\\lib\\site-packages\\shap\\utils\\_clustering.py:77: NumbaDeprecationWarning: \u001B[1mThe 'nopython' keyword argument was not supplied to the 'numba.jit' decorator. The implicit default value for this argument is currently False, but it will be changed to True in Numba 0.59.0. See https://numba.readthedocs.io/en/stable/reference/deprecation.html#deprecation-of-object-mode-fall-back-behaviour-when-using-jit for details.\u001B[0m\n",
      "  def _mask_delta_score(m1, m2):\n",
      "C:\\Users\\sxf84\\.conda\\envs\\windTurbineExp\\lib\\site-packages\\shap\\links.py:5: NumbaDeprecationWarning: \u001B[1mThe 'nopython' keyword argument was not supplied to the 'numba.jit' decorator. The implicit default value for this argument is currently False, but it will be changed to True in Numba 0.59.0. See https://numba.readthedocs.io/en/stable/reference/deprecation.html#deprecation-of-object-mode-fall-back-behaviour-when-using-jit for details.\u001B[0m\n",
      "  def identity(x):\n",
      "C:\\Users\\sxf84\\.conda\\envs\\windTurbineExp\\lib\\site-packages\\shap\\links.py:10: NumbaDeprecationWarning: \u001B[1mThe 'nopython' keyword argument was not supplied to the 'numba.jit' decorator. The implicit default value for this argument is currently False, but it will be changed to True in Numba 0.59.0. See https://numba.readthedocs.io/en/stable/reference/deprecation.html#deprecation-of-object-mode-fall-back-behaviour-when-using-jit for details.\u001B[0m\n",
      "  def _identity_inverse(x):\n",
      "C:\\Users\\sxf84\\.conda\\envs\\windTurbineExp\\lib\\site-packages\\shap\\links.py:15: NumbaDeprecationWarning: \u001B[1mThe 'nopython' keyword argument was not supplied to the 'numba.jit' decorator. The implicit default value for this argument is currently False, but it will be changed to True in Numba 0.59.0. See https://numba.readthedocs.io/en/stable/reference/deprecation.html#deprecation-of-object-mode-fall-back-behaviour-when-using-jit for details.\u001B[0m\n",
      "  def logit(x):\n",
      "C:\\Users\\sxf84\\.conda\\envs\\windTurbineExp\\lib\\site-packages\\shap\\links.py:20: NumbaDeprecationWarning: \u001B[1mThe 'nopython' keyword argument was not supplied to the 'numba.jit' decorator. The implicit default value for this argument is currently False, but it will be changed to True in Numba 0.59.0. See https://numba.readthedocs.io/en/stable/reference/deprecation.html#deprecation-of-object-mode-fall-back-behaviour-when-using-jit for details.\u001B[0m\n",
      "  def _logit_inverse(x):\n",
      "C:\\Users\\sxf84\\.conda\\envs\\windTurbineExp\\lib\\site-packages\\shap\\utils\\_masked_model.py:363: NumbaDeprecationWarning: \u001B[1mThe 'nopython' keyword argument was not supplied to the 'numba.jit' decorator. The implicit default value for this argument is currently False, but it will be changed to True in Numba 0.59.0. See https://numba.readthedocs.io/en/stable/reference/deprecation.html#deprecation-of-object-mode-fall-back-behaviour-when-using-jit for details.\u001B[0m\n",
      "  def _build_fixed_single_output(averaged_outs, last_outs, outputs, batch_positions, varying_rows, num_varying_rows, link, linearizing_weights):\n",
      "C:\\Users\\sxf84\\.conda\\envs\\windTurbineExp\\lib\\site-packages\\shap\\utils\\_masked_model.py:385: NumbaDeprecationWarning: \u001B[1mThe 'nopython' keyword argument was not supplied to the 'numba.jit' decorator. The implicit default value for this argument is currently False, but it will be changed to True in Numba 0.59.0. See https://numba.readthedocs.io/en/stable/reference/deprecation.html#deprecation-of-object-mode-fall-back-behaviour-when-using-jit for details.\u001B[0m\n",
      "  def _build_fixed_multi_output(averaged_outs, last_outs, outputs, batch_positions, varying_rows, num_varying_rows, link, linearizing_weights):\n",
      "C:\\Users\\sxf84\\.conda\\envs\\windTurbineExp\\lib\\site-packages\\shap\\utils\\_masked_model.py:428: NumbaDeprecationWarning: \u001B[1mThe 'nopython' keyword argument was not supplied to the 'numba.jit' decorator. The implicit default value for this argument is currently False, but it will be changed to True in Numba 0.59.0. See https://numba.readthedocs.io/en/stable/reference/deprecation.html#deprecation-of-object-mode-fall-back-behaviour-when-using-jit for details.\u001B[0m\n",
      "  def _init_masks(cluster_matrix, M, indices_row_pos, indptr):\n",
      "C:\\Users\\sxf84\\.conda\\envs\\windTurbineExp\\lib\\site-packages\\shap\\utils\\_masked_model.py:439: NumbaDeprecationWarning: \u001B[1mThe 'nopython' keyword argument was not supplied to the 'numba.jit' decorator. The implicit default value for this argument is currently False, but it will be changed to True in Numba 0.59.0. See https://numba.readthedocs.io/en/stable/reference/deprecation.html#deprecation-of-object-mode-fall-back-behaviour-when-using-jit for details.\u001B[0m\n",
      "  def _rec_fill_masks(cluster_matrix, indices_row_pos, indptr, indices, M, ind):\n",
      "C:\\Users\\sxf84\\.conda\\envs\\windTurbineExp\\lib\\site-packages\\shap\\maskers\\_tabular.py:186: NumbaDeprecationWarning: \u001B[1mThe 'nopython' keyword argument was not supplied to the 'numba.jit' decorator. The implicit default value for this argument is currently False, but it will be changed to True in Numba 0.59.0. See https://numba.readthedocs.io/en/stable/reference/deprecation.html#deprecation-of-object-mode-fall-back-behaviour-when-using-jit for details.\u001B[0m\n",
      "  def _single_delta_mask(dind, masked_inputs, last_mask, data, x, noop_code):\n",
      "C:\\Users\\sxf84\\.conda\\envs\\windTurbineExp\\lib\\site-packages\\shap\\maskers\\_tabular.py:197: NumbaDeprecationWarning: \u001B[1mThe 'nopython' keyword argument was not supplied to the 'numba.jit' decorator. The implicit default value for this argument is currently False, but it will be changed to True in Numba 0.59.0. See https://numba.readthedocs.io/en/stable/reference/deprecation.html#deprecation-of-object-mode-fall-back-behaviour-when-using-jit for details.\u001B[0m\n",
      "  def _delta_masking(masks, x, curr_delta_inds, varying_rows_out,\n",
      "C:\\Users\\sxf84\\.conda\\envs\\windTurbineExp\\lib\\site-packages\\shap\\maskers\\_image.py:175: NumbaDeprecationWarning: \u001B[1mThe 'nopython' keyword argument was not supplied to the 'numba.jit' decorator. The implicit default value for this argument is currently False, but it will be changed to True in Numba 0.59.0. See https://numba.readthedocs.io/en/stable/reference/deprecation.html#deprecation-of-object-mode-fall-back-behaviour-when-using-jit for details.\u001B[0m\n",
      "  def _jit_build_partition_tree(xmin, xmax, ymin, ymax, zmin, zmax, total_ywidth, total_zwidth, M, clustering, q):\n",
      "C:\\Users\\sxf84\\.conda\\envs\\windTurbineExp\\lib\\site-packages\\shap\\explainers\\_partition.py:676: NumbaDeprecationWarning: \u001B[1mThe 'nopython' keyword argument was not supplied to the 'numba.jit' decorator. The implicit default value for this argument is currently False, but it will be changed to True in Numba 0.59.0. See https://numba.readthedocs.io/en/stable/reference/deprecation.html#deprecation-of-object-mode-fall-back-behaviour-when-using-jit for details.\u001B[0m\n",
      "  def lower_credit(i, value, M, values, clustering):\n",
      "\u001B[1mThe 'nopython' keyword argument was not supplied to the 'numba.jit' decorator. The implicit default value for this argument is currently False, but it will be changed to True in Numba 0.59.0. See https://numba.readthedocs.io/en/stable/reference/deprecation.html#deprecation-of-object-mode-fall-back-behaviour-when-using-jit for details.\u001B[0m\n",
      "\u001B[1mThe 'nopython' keyword argument was not supplied to the 'numba.jit' decorator. The implicit default value for this argument is currently False, but it will be changed to True in Numba 0.59.0. See https://numba.readthedocs.io/en/stable/reference/deprecation.html#deprecation-of-object-mode-fall-back-behaviour-when-using-jit for details.\u001B[0m\n"
     ]
    },
    {
     "name": "stdout",
     "output_type": "stream",
     "text": [
      "29900\n"
     ]
    },
    {
     "name": "stderr",
     "output_type": "stream",
     "text": [
      "Lazy modules are a new feature under heavy development so changes to the API or functionality can happen at any moment.\n"
     ]
    }
   ],
   "source": [
    "from alibi.explainers.cfrl_tabular import CounterfactualRLTabular, CounterfactualRL\n",
    "from alibi.explainers.backends.cfrl_tabular import get_he_preprocessor\n",
    "\n",
    "raw_data = data_load.load_turbine_data_without_time(DATA_PATH)\n",
    "feature_names = raw_data.columns.tolist()\n",
    "\n",
    "ae_preprocessor, ae_inv_preprocessor = get_he_preprocessor(X=X_train_raw, feature_names=feature_names, category_map={})\n",
    "\n",
    "ae = model.AutoEncoder(input_size=np.size(data, axis=1)).to(device)\n",
    "# ae_loss = nn.MSELoss()\n",
    "# # optimizer = torch.optim.SGD(ae_model.parameters(), lr=0.001)\n",
    "# ae_optimizer = torch.optim.Adam(ae_model.parameters(), lr=0.0015)\n",
    "# \n",
    "# for epoch in range(epochs):\n",
    "#     print(f\"\\n=====epoch {epoch}/{epochs}=====\")\n",
    "#     train_model.train(data_x=X_train_raw, data_y=X_train_raw, model=ae_model, loss_fn=ae_loss, optimizer=ae_optimizer,\n",
    "#                       batch_size=30000)\n",
    "\n",
    "\n",
    "def predict_function(x):\n",
    "    distance = train_model.autoencoder_test(x, x, ae_model, len(x))\n",
    "    res = 1 / (1 + np.exp(-(distance-65)))\n",
    "    return torch.tensor([[1-n, n] for n in res])\n",
    "    # return res\n",
    "\n",
    "# explainer = CounterfactualRLTabular(\n",
    "#     predictor=predict_function,\n",
    "#     encoder=ae.encoder,\n",
    "#     decoder=ae.decoder,\n",
    "#     feature_names=feature_names,\n",
    "#     category_map={},\n",
    "#     latent_dim=20,\n",
    "#     encoder_preprocessor=ae_preprocessor,\n",
    "#     decoder_inv_preprocessor=ae_inv_preprocessor,\n",
    "#     coeff_sparsity=0.5,\n",
    "#     coeff_consistency=0.5,\n",
    "#     backend=\"pytorch\"\n",
    "# )\n",
    "\n",
    "explainer = CounterfactualRL(\n",
    "    predictor=predict_function,\n",
    "    encoder=ae.encoder,\n",
    "    decoder=ae.decoder,\n",
    "    coeff_consistency=0.5,\n",
    "    coeff_sparsity=0.5,\n",
    "    backend='pytorch'\n",
    ")\n",
    "\n",
    "print(X_train[0:100].size)\n",
    "\n"
   ]
  },
  {
   "cell_type": "code",
   "execution_count": 8,
   "outputs": [
    {
     "name": "stderr",
     "output_type": "stream",
     "text": [
      "  0%|          | 0/100000 [00:05<?, ?it/s]\n"
     ]
    },
    {
     "ename": "RuntimeError",
     "evalue": "DataLoader worker (pid(s) 6392, 30048, 22840, 35648) exited unexpectedly",
     "output_type": "error",
     "traceback": [
      "\u001B[1;31m---------------------------------------------------------------------------\u001B[0m",
      "\u001B[1;31mEmpty\u001B[0m                                     Traceback (most recent call last)",
      "File \u001B[1;32m~\\.conda\\envs\\windTurbineExp\\lib\\site-packages\\torch\\utils\\data\\dataloader.py:1120\u001B[0m, in \u001B[0;36m_MultiProcessingDataLoaderIter._try_get_data\u001B[1;34m(self, timeout)\u001B[0m\n\u001B[0;32m   1119\u001B[0m \u001B[38;5;28;01mtry\u001B[39;00m:\n\u001B[1;32m-> 1120\u001B[0m     data \u001B[38;5;241m=\u001B[39m \u001B[38;5;28;43mself\u001B[39;49m\u001B[38;5;241;43m.\u001B[39;49m\u001B[43m_data_queue\u001B[49m\u001B[38;5;241;43m.\u001B[39;49m\u001B[43mget\u001B[49m\u001B[43m(\u001B[49m\u001B[43mtimeout\u001B[49m\u001B[38;5;241;43m=\u001B[39;49m\u001B[43mtimeout\u001B[49m\u001B[43m)\u001B[49m\n\u001B[0;32m   1121\u001B[0m     \u001B[38;5;28;01mreturn\u001B[39;00m (\u001B[38;5;28;01mTrue\u001B[39;00m, data)\n",
      "File \u001B[1;32m~\\.conda\\envs\\windTurbineExp\\lib\\multiprocessing\\queues.py:114\u001B[0m, in \u001B[0;36mQueue.get\u001B[1;34m(self, block, timeout)\u001B[0m\n\u001B[0;32m    113\u001B[0m     \u001B[38;5;28;01mif\u001B[39;00m \u001B[38;5;129;01mnot\u001B[39;00m \u001B[38;5;28mself\u001B[39m\u001B[38;5;241m.\u001B[39m_poll(timeout):\n\u001B[1;32m--> 114\u001B[0m         \u001B[38;5;28;01mraise\u001B[39;00m Empty\n\u001B[0;32m    115\u001B[0m \u001B[38;5;28;01melif\u001B[39;00m \u001B[38;5;129;01mnot\u001B[39;00m \u001B[38;5;28mself\u001B[39m\u001B[38;5;241m.\u001B[39m_poll():\n",
      "\u001B[1;31mEmpty\u001B[0m: ",
      "\nThe above exception was the direct cause of the following exception:\n",
      "\u001B[1;31mRuntimeError\u001B[0m                              Traceback (most recent call last)",
      "Cell \u001B[1;32mIn[8], line 1\u001B[0m\n\u001B[1;32m----> 1\u001B[0m explainer \u001B[38;5;241m=\u001B[39m \u001B[43mexplainer\u001B[49m\u001B[38;5;241;43m.\u001B[39;49m\u001B[43mfit\u001B[49m\u001B[43m(\u001B[49m\u001B[43mX\u001B[49m\u001B[38;5;241;43m=\u001B[39;49m\u001B[43mX_train\u001B[49m\u001B[43m[\u001B[49m\u001B[38;5;241;43m0\u001B[39;49m\u001B[43m:\u001B[49m\u001B[38;5;241;43m100\u001B[39;49m\u001B[43m]\u001B[49m\u001B[43m)\u001B[49m\n",
      "File \u001B[1;32m~\\.conda\\envs\\windTurbineExp\\lib\\site-packages\\alibi\\explainers\\cfrl_base.py:651\u001B[0m, in \u001B[0;36mCounterfactualRL.fit\u001B[1;34m(self, X)\u001B[0m\n\u001B[0;32m    648\u001B[0m \u001B[38;5;28;01mfor\u001B[39;00m step \u001B[38;5;129;01min\u001B[39;00m tqdm(\u001B[38;5;28mrange\u001B[39m(\u001B[38;5;28mself\u001B[39m\u001B[38;5;241m.\u001B[39mparams[\u001B[38;5;124m\"\u001B[39m\u001B[38;5;124mtrain_steps\u001B[39m\u001B[38;5;124m\"\u001B[39m])):\n\u001B[0;32m    649\u001B[0m     \u001B[38;5;66;03m# Sample training data.\u001B[39;00m\n\u001B[0;32m    650\u001B[0m     \u001B[38;5;28;01mtry\u001B[39;00m:\n\u001B[1;32m--> 651\u001B[0m         data \u001B[38;5;241m=\u001B[39m \u001B[38;5;28;43mnext\u001B[39;49m\u001B[43m(\u001B[49m\u001B[43mdata_iter\u001B[49m\u001B[43m)\u001B[49m\n\u001B[0;32m    652\u001B[0m     \u001B[38;5;28;01mexcept\u001B[39;00m \u001B[38;5;167;01mStopIteration\u001B[39;00m:\n\u001B[0;32m    653\u001B[0m         \u001B[38;5;28;01mif\u001B[39;00m \u001B[38;5;28mhasattr\u001B[39m(data_generator, \u001B[38;5;124m\"\u001B[39m\u001B[38;5;124mon_epoch_end\u001B[39m\u001B[38;5;124m\"\u001B[39m):\n\u001B[0;32m    654\u001B[0m             \u001B[38;5;66;03m# This is just for tensorflow backend.\u001B[39;00m\n",
      "File \u001B[1;32m~\\.conda\\envs\\windTurbineExp\\lib\\site-packages\\torch\\utils\\data\\dataloader.py:628\u001B[0m, in \u001B[0;36m_BaseDataLoaderIter.__next__\u001B[1;34m(self)\u001B[0m\n\u001B[0;32m    625\u001B[0m \u001B[38;5;28;01mif\u001B[39;00m \u001B[38;5;28mself\u001B[39m\u001B[38;5;241m.\u001B[39m_sampler_iter \u001B[38;5;129;01mis\u001B[39;00m \u001B[38;5;28;01mNone\u001B[39;00m:\n\u001B[0;32m    626\u001B[0m     \u001B[38;5;66;03m# TODO(https://github.com/pytorch/pytorch/issues/76750)\u001B[39;00m\n\u001B[0;32m    627\u001B[0m     \u001B[38;5;28mself\u001B[39m\u001B[38;5;241m.\u001B[39m_reset()  \u001B[38;5;66;03m# type: ignore[call-arg]\u001B[39;00m\n\u001B[1;32m--> 628\u001B[0m data \u001B[38;5;241m=\u001B[39m \u001B[38;5;28;43mself\u001B[39;49m\u001B[38;5;241;43m.\u001B[39;49m\u001B[43m_next_data\u001B[49m\u001B[43m(\u001B[49m\u001B[43m)\u001B[49m\n\u001B[0;32m    629\u001B[0m \u001B[38;5;28mself\u001B[39m\u001B[38;5;241m.\u001B[39m_num_yielded \u001B[38;5;241m+\u001B[39m\u001B[38;5;241m=\u001B[39m \u001B[38;5;241m1\u001B[39m\n\u001B[0;32m    630\u001B[0m \u001B[38;5;28;01mif\u001B[39;00m \u001B[38;5;28mself\u001B[39m\u001B[38;5;241m.\u001B[39m_dataset_kind \u001B[38;5;241m==\u001B[39m _DatasetKind\u001B[38;5;241m.\u001B[39mIterable \u001B[38;5;129;01mand\u001B[39;00m \\\n\u001B[0;32m    631\u001B[0m         \u001B[38;5;28mself\u001B[39m\u001B[38;5;241m.\u001B[39m_IterableDataset_len_called \u001B[38;5;129;01mis\u001B[39;00m \u001B[38;5;129;01mnot\u001B[39;00m \u001B[38;5;28;01mNone\u001B[39;00m \u001B[38;5;129;01mand\u001B[39;00m \\\n\u001B[0;32m    632\u001B[0m         \u001B[38;5;28mself\u001B[39m\u001B[38;5;241m.\u001B[39m_num_yielded \u001B[38;5;241m>\u001B[39m \u001B[38;5;28mself\u001B[39m\u001B[38;5;241m.\u001B[39m_IterableDataset_len_called:\n",
      "File \u001B[1;32m~\\.conda\\envs\\windTurbineExp\\lib\\site-packages\\torch\\utils\\data\\dataloader.py:1316\u001B[0m, in \u001B[0;36m_MultiProcessingDataLoaderIter._next_data\u001B[1;34m(self)\u001B[0m\n\u001B[0;32m   1313\u001B[0m     \u001B[38;5;28;01mreturn\u001B[39;00m \u001B[38;5;28mself\u001B[39m\u001B[38;5;241m.\u001B[39m_process_data(data)\n\u001B[0;32m   1315\u001B[0m \u001B[38;5;28;01massert\u001B[39;00m \u001B[38;5;129;01mnot\u001B[39;00m \u001B[38;5;28mself\u001B[39m\u001B[38;5;241m.\u001B[39m_shutdown \u001B[38;5;129;01mand\u001B[39;00m \u001B[38;5;28mself\u001B[39m\u001B[38;5;241m.\u001B[39m_tasks_outstanding \u001B[38;5;241m>\u001B[39m \u001B[38;5;241m0\u001B[39m\n\u001B[1;32m-> 1316\u001B[0m idx, data \u001B[38;5;241m=\u001B[39m \u001B[38;5;28;43mself\u001B[39;49m\u001B[38;5;241;43m.\u001B[39;49m\u001B[43m_get_data\u001B[49m\u001B[43m(\u001B[49m\u001B[43m)\u001B[49m\n\u001B[0;32m   1317\u001B[0m \u001B[38;5;28mself\u001B[39m\u001B[38;5;241m.\u001B[39m_tasks_outstanding \u001B[38;5;241m-\u001B[39m\u001B[38;5;241m=\u001B[39m \u001B[38;5;241m1\u001B[39m\n\u001B[0;32m   1318\u001B[0m \u001B[38;5;28;01mif\u001B[39;00m \u001B[38;5;28mself\u001B[39m\u001B[38;5;241m.\u001B[39m_dataset_kind \u001B[38;5;241m==\u001B[39m _DatasetKind\u001B[38;5;241m.\u001B[39mIterable:\n\u001B[0;32m   1319\u001B[0m     \u001B[38;5;66;03m# Check for _IterableDatasetStopIteration\u001B[39;00m\n",
      "File \u001B[1;32m~\\.conda\\envs\\windTurbineExp\\lib\\site-packages\\torch\\utils\\data\\dataloader.py:1282\u001B[0m, in \u001B[0;36m_MultiProcessingDataLoaderIter._get_data\u001B[1;34m(self)\u001B[0m\n\u001B[0;32m   1278\u001B[0m     \u001B[38;5;66;03m# In this case, `self._data_queue` is a `queue.Queue`,. But we don't\u001B[39;00m\n\u001B[0;32m   1279\u001B[0m     \u001B[38;5;66;03m# need to call `.task_done()` because we don't use `.join()`.\u001B[39;00m\n\u001B[0;32m   1280\u001B[0m \u001B[38;5;28;01melse\u001B[39;00m:\n\u001B[0;32m   1281\u001B[0m     \u001B[38;5;28;01mwhile\u001B[39;00m \u001B[38;5;28;01mTrue\u001B[39;00m:\n\u001B[1;32m-> 1282\u001B[0m         success, data \u001B[38;5;241m=\u001B[39m \u001B[38;5;28;43mself\u001B[39;49m\u001B[38;5;241;43m.\u001B[39;49m\u001B[43m_try_get_data\u001B[49m\u001B[43m(\u001B[49m\u001B[43m)\u001B[49m\n\u001B[0;32m   1283\u001B[0m         \u001B[38;5;28;01mif\u001B[39;00m success:\n\u001B[0;32m   1284\u001B[0m             \u001B[38;5;28;01mreturn\u001B[39;00m data\n",
      "File \u001B[1;32m~\\.conda\\envs\\windTurbineExp\\lib\\site-packages\\torch\\utils\\data\\dataloader.py:1133\u001B[0m, in \u001B[0;36m_MultiProcessingDataLoaderIter._try_get_data\u001B[1;34m(self, timeout)\u001B[0m\n\u001B[0;32m   1131\u001B[0m \u001B[38;5;28;01mif\u001B[39;00m \u001B[38;5;28mlen\u001B[39m(failed_workers) \u001B[38;5;241m>\u001B[39m \u001B[38;5;241m0\u001B[39m:\n\u001B[0;32m   1132\u001B[0m     pids_str \u001B[38;5;241m=\u001B[39m \u001B[38;5;124m'\u001B[39m\u001B[38;5;124m, \u001B[39m\u001B[38;5;124m'\u001B[39m\u001B[38;5;241m.\u001B[39mjoin(\u001B[38;5;28mstr\u001B[39m(w\u001B[38;5;241m.\u001B[39mpid) \u001B[38;5;28;01mfor\u001B[39;00m w \u001B[38;5;129;01min\u001B[39;00m failed_workers)\n\u001B[1;32m-> 1133\u001B[0m     \u001B[38;5;28;01mraise\u001B[39;00m \u001B[38;5;167;01mRuntimeError\u001B[39;00m(\u001B[38;5;124m'\u001B[39m\u001B[38;5;124mDataLoader worker (pid(s) \u001B[39m\u001B[38;5;132;01m{}\u001B[39;00m\u001B[38;5;124m) exited unexpectedly\u001B[39m\u001B[38;5;124m'\u001B[39m\u001B[38;5;241m.\u001B[39mformat(pids_str)) \u001B[38;5;28;01mfrom\u001B[39;00m \u001B[38;5;21;01me\u001B[39;00m\n\u001B[0;32m   1134\u001B[0m \u001B[38;5;28;01mif\u001B[39;00m \u001B[38;5;28misinstance\u001B[39m(e, queue\u001B[38;5;241m.\u001B[39mEmpty):\n\u001B[0;32m   1135\u001B[0m     \u001B[38;5;28;01mreturn\u001B[39;00m (\u001B[38;5;28;01mFalse\u001B[39;00m, \u001B[38;5;28;01mNone\u001B[39;00m)\n",
      "\u001B[1;31mRuntimeError\u001B[0m: DataLoader worker (pid(s) 6392, 30048, 22840, 35648) exited unexpectedly"
     ]
    }
   ],
   "source": [
    "explainer = explainer.fit(X=X_train[0:100])"
   ],
   "metadata": {
    "collapsed": false,
    "ExecuteTime": {
     "end_time": "2023-08-30T00:13:50.508571200Z",
     "start_time": "2023-08-30T00:13:11.872714900Z"
    }
   }
  },
  {
   "cell_type": "code",
   "execution_count": null,
   "outputs": [],
   "source": [
    "X_positive = X_test[np.argmax(predict_function(X_test), axis=1) == 1]\n",
    "X = X_positive[:1000]\n",
    "Y_t = np.array([0])\n",
    "\n",
    "C=[]\n",
    "explainer.explain(X, Y_t)"
   ],
   "metadata": {
    "collapsed": false,
    "ExecuteTime": {
     "end_time": "2023-08-29T23:40:21.785168400Z",
     "start_time": "2023-08-29T23:40:21.783168Z"
    }
   }
  },
  {
   "cell_type": "code",
   "execution_count": null,
   "outputs": [],
   "source": [],
   "metadata": {
    "collapsed": false,
    "ExecuteTime": {
     "start_time": "2023-08-29T23:40:21.785168400Z"
    }
   }
  }
 ],
 "metadata": {
  "kernelspec": {
   "display_name": "Python 3 (ipykernel)",
   "language": "python",
   "name": "python3"
  },
  "language_info": {
   "codemirror_mode": {
    "name": "ipython",
    "version": 3
   },
   "file_extension": ".py",
   "mimetype": "text/x-python",
   "name": "python",
   "nbconvert_exporter": "python",
   "pygments_lexer": "ipython3",
   "version": "3.8.16"
  }
 },
 "nbformat": 4,
 "nbformat_minor": 1
}
